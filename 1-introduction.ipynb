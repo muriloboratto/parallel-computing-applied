{
 "cells": [
  {
   "cell_type": "markdown",
   "id": "fRdbEJCUyJLj",
   "metadata": {
    "id": "fRdbEJCUyJLj"
   },
   "source": [
    "# Hands-on: High Performance Computing applied to Industry"
   ]
  },
  {
   "cell_type": "markdown",
   "id": "n12FbzH_yJLl",
   "metadata": {
    "id": "n12FbzH_yJLl"
   },
   "source": [
    "Welcome to _Hands-on_. In this short course you will learn several techniques for scaling computation on industrial applications, with an emphasis on [OPENMP, OPENACC, CUDA] which allows for elegant parallelization applications codes and has been proven to scale very well on supercomputational systems."
   ]
  },
  {
   "cell_type": "markdown",
   "id": "FUm5HQBwyJLm",
   "metadata": {
    "id": "FUm5HQBwyJLm"
   },
   "source": [
    "## The Coding Environment"
   ]
  },
  {
   "cell_type": "markdown",
   "id": "m13auaYIyJLm",
   "metadata": {
    "id": "m13auaYIyJLm"
   },
   "source": [
    "For your work today, you have access to several computational resources in the cloud. Run the following cell to see the features available to you today."
   ]
  },
  {
   "cell_type": "code",
   "execution_count": 1,
   "id": "7a3ff15b-3853-49eb-91ca-220ff5d735b6",
   "metadata": {},
   "outputs": [
    {
     "name": "stdout",
     "output_type": "stream",
     "text": [
      "Fri Mar 24 11:49:54 2023       \n",
      "+-----------------------------------------------------------------------------+\n",
      "| NVIDIA-SMI 525.60.13    Driver Version: 525.60.13    CUDA Version: 12.0     |\n",
      "|-------------------------------+----------------------+----------------------+\n",
      "| GPU  Name        Persistence-M| Bus-Id        Disp.A | Volatile Uncorr. ECC |\n",
      "| Fan  Temp  Perf  Pwr:Usage/Cap|         Memory-Usage | GPU-Util  Compute M. |\n",
      "|                               |                      |               MIG M. |\n",
      "|===============================+======================+======================|\n",
      "|   0  Tesla V100-SXM2...  On   | 00000000:60:00.0 Off |                    0 |\n",
      "| N/A   41C    P0    44W / 300W |      0MiB / 32768MiB |      0%      Default |\n",
      "|                               |                      |                  N/A |\n",
      "+-------------------------------+----------------------+----------------------+\n",
      "|   1  Tesla V100-SXM2...  On   | 00000000:61:00.0 Off |                    0 |\n",
      "| N/A   42C    P0    46W / 300W |      0MiB / 32768MiB |      0%      Default |\n",
      "|                               |                      |                  N/A |\n",
      "+-------------------------------+----------------------+----------------------+\n",
      "|   2  Tesla V100-SXM2...  On   | 00000000:88:00.0 Off |                    0 |\n",
      "| N/A   41C    P0    45W / 300W |      0MiB / 32768MiB |      0%      Default |\n",
      "|                               |                      |                  N/A |\n",
      "+-------------------------------+----------------------+----------------------+\n",
      "|   3  Tesla V100-SXM2...  On   | 00000000:89:00.0 Off |                    0 |\n",
      "| N/A   41C    P0    44W / 300W |      0MiB / 32768MiB |      0%      Default |\n",
      "|                               |                      |                  N/A |\n",
      "+-------------------------------+----------------------+----------------------+\n",
      "                                                                               \n",
      "+-----------------------------------------------------------------------------+\n",
      "| Processes:                                                                  |\n",
      "|  GPU   GI   CI        PID   Type   Process name                  GPU Memory |\n",
      "|        ID   ID                                                   Usage      |\n",
      "|=============================================================================|\n",
      "|  No running processes found                                                 |\n",
      "+-----------------------------------------------------------------------------+\n"
     ]
    }
   ],
   "source": [
    "!nvidia-smi"
   ]
  },
  {
   "cell_type": "code",
   "execution_count": 2,
   "id": "yqipQLSmyJLn",
   "metadata": {
    "colab": {
     "base_uri": "https://localhost:8080/"
    },
    "executionInfo": {
     "elapsed": 328,
     "status": "ok",
     "timestamp": 1666529339545,
     "user": {
      "displayName": "Murilo Boratto",
      "userId": "13998345321799991370"
     },
     "user_tz": 180
    },
    "id": "yqipQLSmyJLn",
    "outputId": "24b09446-c372-475f-e4ce-bb2e292517e4"
   },
   "outputs": [
    {
     "name": "stdout",
     "output_type": "stream",
     "text": [
      "\t\u001b[4mGPU0\tGPU1\tGPU2\tGPU3\tmlx5_0\tmlx5_1\tCPU Affinity\tNUMA Affinity\u001b[0m\n",
      "GPU0\t X \tNV2\tNV2\tNV2\tPIX\tSYS\t0-17,36-53\t0\n",
      "GPU1\tNV2\t X \tNV2\tNV2\tPIX\tSYS\t0-17,36-53\t0\n",
      "GPU2\tNV2\tNV2\t X \tNV2\tSYS\tPIX\t18-35,54-71\t1\n",
      "GPU3\tNV2\tNV2\tNV2\t X \tSYS\tPIX\t18-35,54-71\t1\n",
      "mlx5_0\tPIX\tPIX\tSYS\tSYS\t X \tSYS\t\t\n",
      "mlx5_1\tSYS\tSYS\tPIX\tPIX\tSYS\t X \t\t\n",
      "\n",
      "Legend:\n",
      "\n",
      "  X    = Self\n",
      "  SYS  = Connection traversing PCIe as well as the SMP interconnect between NUMA nodes (e.g., QPI/UPI)\n",
      "  NODE = Connection traversing PCIe as well as the interconnect between PCIe Host Bridges within a NUMA node\n",
      "  PHB  = Connection traversing PCIe as well as a PCIe Host Bridge (typically the CPU)\n",
      "  PXB  = Connection traversing multiple PCIe bridges (without traversing the PCIe Host Bridge)\n",
      "  PIX  = Connection traversing at most a single PCIe bridge\n",
      "  NV#  = Connection traversing a bonded set of # NVLinks\n"
     ]
    }
   ],
   "source": [
    "!nvidia-smi topo -m "
   ]
  },
  {
   "cell_type": "markdown",
   "id": "Ws-Hn9CgyJLp",
   "metadata": {
    "id": "Ws-Hn9CgyJLp"
   },
   "source": [
    "While your work today will be on a single node, all the techniques you learn today, can be used to run your applications across clusters of multi-GPU nodes."
   ]
  },
  {
   "cell_type": "markdown",
   "id": "89507cf3-343c-496e-b0ce-1bdfe6ce0435",
   "metadata": {},
   "source": [
    "## Environment Modules on Supercomputing Environment"
   ]
  },
  {
   "cell_type": "markdown",
   "id": "ae011059-a2b1-48be-b313-4d4b3cf43769",
   "metadata": {},
   "source": [
    "These modules must be initialized before running the jupyter-notebook:\n",
    "```cpp\n",
    "Currently Loaded Modulefiles:\n",
    "    1) anaconda3/2022.05 \n",
    "    2) cuda/11.6         \n",
    "    3) ucx/1.12.0-cuda-11.6-ofed-5.4\n",
    "    4) gcc/11.1.0  \n",
    "    5) openmpi/4.1.1-cuda-11.6-ofed-5.4\n",
    "    6) intel/parallel-studio-xe/2020.2    \n",
    "    7) pgi/2019.2\n",
    "    8) llvm/11.0.0\n",
    "```"
   ]
  },
  {
   "cell_type": "markdown",
   "id": "Jq8Zc_8byJLp",
   "metadata": {
    "id": "Jq8Zc_8byJLp"
   },
   "source": [
    "## Table of Contents"
   ]
  },
  {
   "cell_type": "markdown",
   "id": "vn9m6S-jyJLq",
   "metadata": {
    "id": "vn9m6S-jyJLq"
   },
   "source": [
    "During the workshop today you will work through each of the following notebooks with your instructor:"
   ]
  },
  {
   "cell_type": "markdown",
   "id": "GN2WM2cXyJLq",
   "metadata": {
    "id": "GN2WM2cXyJLq"
   },
   "source": [
    "- [Accelerate a Thermal Conductivity Application](2-heat.ipynb): You will begin by familiarizing yourself with a single GPU implementation of the Accelerate a Thermal Conductivity Application, which we will use to introduce  multi-resources programming paradigms.\n",
    "- [Seismic Modelling - 1D Wave Equation](3-wave.ipynb): You apply your day's learnings by refactoring a single GPU 1D wave equation solver to run on supercomputing environment.\n",
    "- [Final Exercise](4-finalExercise.ipynb): In this exercise you apply your concepts."
   ]
  },
  {
   "cell_type": "markdown",
   "id": "bzhJyfWIyJLr",
   "metadata": {
    "id": "bzhJyfWIyJLr"
   },
   "source": [
    "## Matrix Multiple Benchmark"
   ]
  },
  {
   "cell_type": "markdown",
   "id": "XY0PHc4eyJLr",
   "metadata": {
    "id": "XY0PHc4eyJLr"
   },
   "source": [
    "### A Single CPU Implementation "
   ]
  },
  {
   "cell_type": "code",
   "execution_count": 4,
   "id": "DcJxHVSzyJLr",
   "metadata": {
    "colab": {
     "base_uri": "https://localhost:8080/"
    },
    "executionInfo": {
     "elapsed": 271,
     "status": "ok",
     "timestamp": 1666529352426,
     "user": {
      "displayName": "Murilo Boratto",
      "userId": "13998345321799991370"
     },
     "user_tz": 180
    },
    "id": "DcJxHVSzyJLr",
    "outputId": "745549f1-3ecd-4f11-bf6c-4271e6e598b6"
   },
   "outputs": [
    {
     "name": "stdout",
     "output_type": "stream",
     "text": [
      "Writing mm.c\n"
     ]
    }
   ],
   "source": [
    "%%writefile mm.c\n",
    "#include <stdio.h>\n",
    "#include <stdlib.h>\n",
    "\n",
    "void fill_matrix(double *A, int n){\n",
    " \n",
    "  for(int i = 0; i < n; i++)\n",
    "    for(int j = 0; j < n; j++)\n",
    "      A[i*n+j] = rand()%(10-1)*1;\n",
    "  \n",
    "}\n",
    "\n",
    "void print_matrix(double *A, int n){\n",
    "\n",
    "  for(int i = 0; i < n; i++){\n",
    "    for(int j = 0; j < n; j++)\n",
    "      printf(\"%1.2f\\t\", A[i*n+j]);\n",
    "    printf(\"\\n\");\n",
    "  }\n",
    "\n",
    "  printf(\"\\n\");\n",
    "\n",
    "}\n",
    "\n",
    "int main(int argc, char **argv){\n",
    "\n",
    " int n = atoi(argv[1]);  \n",
    " int i, j, k;\n",
    "\n",
    " double  *A = (double *) malloc (sizeof(double) * n * n);\n",
    " double  *B = (double *) malloc (sizeof(double) * n * n);\n",
    " double  *C = (double *) malloc (sizeof(double) * n * n);\n",
    "\n",
    " fill_matrix(A,n);\n",
    " fill_matrix(B,n);\n",
    "\n",
    " for(i = 0; i < n; i++) \n",
    "  for(j = 0; j < n; j++)\n",
    "    for(k = 0; k < n; k++) \n",
    "      C[i*n+j]+=A[i*n+k]*B[k*n+j];\n",
    "\n",
    " print_matrix(A,n);\n",
    " print_matrix(B,n);\n",
    " print_matrix(C,n);\n",
    "\n",
    " return 0;\n",
    "\n",
    "}"
   ]
  },
  {
   "cell_type": "code",
   "execution_count": 5,
   "id": "G1nTnPVxyJLt",
   "metadata": {
    "id": "G1nTnPVxyJLt"
   },
   "outputs": [],
   "source": [
    "!gcc mm.c -o mm"
   ]
  },
  {
   "cell_type": "code",
   "execution_count": 6,
   "id": "OV8zXBHkyJLt",
   "metadata": {
    "colab": {
     "base_uri": "https://localhost:8080/"
    },
    "executionInfo": {
     "elapsed": 281,
     "status": "ok",
     "timestamp": 1666529362942,
     "user": {
      "displayName": "Murilo Boratto",
      "userId": "13998345321799991370"
     },
     "user_tz": 180
    },
    "id": "OV8zXBHkyJLt",
    "outputId": "ee343f9f-65cc-4563-ce60-5bbbd7fa389b"
   },
   "outputs": [
    {
     "name": "stdout",
     "output_type": "stream",
     "text": [
      "1.00\t7.00\t0.00\t7.00\t5.00\t7.00\t1.00\t3.00\t6.00\t1.00\t5.00\t4.00\t\n",
      "5.00\t7.00\t5.00\t4.00\t6.00\t0.00\t7.00\t1.00\t8.00\t8.00\t6.00\t6.00\t\n",
      "8.00\t8.00\t8.00\t4.00\t1.00\t1.00\t5.00\t0.00\t0.00\t3.00\t5.00\t3.00\t\n",
      "1.00\t7.00\t4.00\t7.00\t6.00\t0.00\t0.00\t2.00\t5.00\t4.00\t5.00\t2.00\t\n",
      "2.00\t3.00\t2.00\t1.00\t1.00\t8.00\t8.00\t0.00\t5.00\t5.00\t4.00\t4.00\t\n",
      "6.00\t0.00\t5.00\t6.00\t2.00\t8.00\t7.00\t3.00\t4.00\t2.00\t0.00\t0.00\t\n",
      "0.00\t0.00\t2.00\t6.00\t2.00\t5.00\t6.00\t5.00\t7.00\t6.00\t6.00\t8.00\t\n",
      "5.00\t3.00\t6.00\t2.00\t8.00\t1.00\t6.00\t6.00\t8.00\t0.00\t1.00\t1.00\t\n",
      "7.00\t0.00\t3.00\t2.00\t0.00\t1.00\t2.00\t1.00\t8.00\t3.00\t5.00\t2.00\t\n",
      "6.00\t0.00\t7.00\t2.00\t7.00\t2.00\t8.00\t1.00\t6.00\t5.00\t1.00\t5.00\t\n",
      "4.00\t6.00\t0.00\t4.00\t6.00\t2.00\t3.00\t2.00\t0.00\t4.00\t3.00\t7.00\t\n",
      "5.00\t3.00\t6.00\t5.00\t4.00\t2.00\t5.00\t2.00\t1.00\t3.00\t2.00\t8.00\t\n",
      "\n",
      "3.00\t2.00\t0.00\t0.00\t7.00\t2.00\t4.00\t3.00\t6.00\t2.00\t5.00\t1.00\t\n",
      "2.00\t6.00\t4.00\t2.00\t2.00\t7.00\t8.00\t5.00\t1.00\t5.00\t1.00\t4.00\t\n",
      "8.00\t4.00\t6.00\t7.00\t5.00\t8.00\t6.00\t0.00\t8.00\t4.00\t0.00\t7.00\t\n",
      "4.00\t2.00\t8.00\t1.00\t5.00\t2.00\t3.00\t7.00\t8.00\t7.00\t8.00\t1.00\t\n",
      "3.00\t7.00\t5.00\t2.00\t3.00\t6.00\t6.00\t0.00\t2.00\t1.00\t7.00\t7.00\t\n",
      "8.00\t2.00\t5.00\t7.00\t7.00\t4.00\t3.00\t0.00\t6.00\t0.00\t2.00\t0.00\t\n",
      "2.00\t3.00\t6.00\t2.00\t8.00\t5.00\t1.00\t2.00\t1.00\t6.00\t2.00\t2.00\t\n",
      "2.00\t7.00\t3.00\t2.00\t6.00\t8.00\t7.00\t3.00\t0.00\t4.00\t2.00\t5.00\t\n",
      "8.00\t3.00\t5.00\t3.00\t4.00\t5.00\t4.00\t4.00\t8.00\t1.00\t6.00\t7.00\t\n",
      "4.00\t6.00\t7.00\t5.00\t3.00\t8.00\t7.00\t3.00\t6.00\t8.00\t5.00\t1.00\t\n",
      "6.00\t2.00\t5.00\t6.00\t6.00\t5.00\t0.00\t3.00\t8.00\t5.00\t6.00\t1.00\t\n",
      "2.00\t8.00\t6.00\t8.00\t0.00\t1.00\t7.00\t2.00\t7.00\t3.00\t7.00\t2.00\t\n",
      "\n",
      "214.00\t197.00\t245.00\t173.00\t203.00\t219.00\t213.00\t148.00\t244.00\t160.00\t224.00\t144.00\t\n",
      "263.00\t282.00\t327.00\t229.00\t266.00\t326.00\t298.00\t181.00\t330.00\t265.00\t288.00\t215.00\t\n",
      "189.00\t180.00\t216.00\t164.00\t221.00\t231.00\t212.00\t132.00\t244.00\t205.00\t165.00\t131.00\t\n",
      "189.00\t195.00\t234.00\t146.00\t168.00\t233.00\t217.00\t144.00\t231.00\t184.00\t208.00\t164.00\t\n",
      "207.00\t164.00\t229.00\t191.00\t217.00\t210.00\t168.00\t99.00\t227.00\t160.00\t167.00\t104.00\t\n",
      "212.00\t140.00\t213.00\t143.00\t255.00\t203.00\t166.00\t105.00\t227.00\t150.00\t162.00\t120.00\t\n",
      "240.00\t230.00\t301.00\t232.00\t241.00\t251.00\t224.00\t149.00\t300.00\t217.00\t258.00\t148.00\t\n",
      "205.00\t208.00\t214.00\t135.00\t234.00\t259.00\t224.00\t111.00\t204.00\t147.00\t187.00\t218.00\t\n",
      "177.00\t113.00\t152.00\t121.00\t174.00\t155.00\t131.00\t102.00\t226.00\t119.00\t166.00\t107.00\t\n",
      "221.00\t218.00\t254.00\t186.00\t237.00\t250.00\t229.00\t103.00\t263.00\t179.00\t219.00\t185.00\t\n",
      "132.00\t207.00\t205.00\t146.00\t158.00\t187.00\t212.00\t117.00\t186.00\t166.00\t201.00\t111.00\t\n",
      "179.00\t212.00\t238.00\t183.00\t199.00\t209.00\t225.00\t116.00\t244.00\t185.00\t203.00\t140.00\t\n",
      "\n"
     ]
    }
   ],
   "source": [
    "!./mm 12"
   ]
  },
  {
   "cell_type": "markdown",
   "id": "ZwqgTtYiyJLu",
   "metadata": {
    "id": "ZwqgTtYiyJLu"
   },
   "source": [
    "#### How to measure execution time in C code?"
   ]
  },
  {
   "cell_type": "code",
   "execution_count": 13,
   "id": "13ApcilkyJLu",
   "metadata": {
    "colab": {
     "base_uri": "https://localhost:8080/"
    },
    "executionInfo": {
     "elapsed": 285,
     "status": "ok",
     "timestamp": 1666529369713,
     "user": {
      "displayName": "Murilo Boratto",
      "userId": "13998345321799991370"
     },
     "user_tz": 180
    },
    "id": "13ApcilkyJLu",
    "outputId": "da61144b-ea86-4a6c-a258-50ca9d0079f5"
   },
   "outputs": [
    {
     "name": "stdout",
     "output_type": "stream",
     "text": [
      "Overwriting mm-time.c\n"
     ]
    }
   ],
   "source": [
    "%%writefile mm-time.c\n",
    "#include <stdio.h>\n",
    "#include <stdlib.h>\n",
    "#include <sys/time.h>\n",
    "\n",
    "void fill_matrix(double *A, int n){ \n",
    "  for(int i = 0; i < n; i++)\n",
    "    for(int j = 0; j < n; j++)\n",
    "      A[i*n+j] = rand()%(10-1)*1;\n",
    "  \n",
    "}\n",
    "\n",
    "void print_matrix(double *A, int n){\n",
    "\n",
    "  for(int i = 0; i < n; i++){\n",
    "    for(int j = 0; j < n; j++)\n",
    "      printf(\"%1.2f\\t\", A[i*n+j]);\n",
    "    printf(\"\\n\");\n",
    "  }\n",
    "\n",
    "  printf(\"\\n\");\n",
    "\n",
    "}\n",
    "\n",
    "int main(int argc, char **argv)\n",
    "{\n",
    "  int n = atoi(argv[1]);  \n",
    "  int i, j, k;\n",
    "  struct timeval begin, end;  \n",
    "\n",
    "  double  *A = (double *) malloc (sizeof(double) * n * n);\n",
    "  double  *B = (double *) malloc (sizeof(double) * n * n);\n",
    "  double  *C = (double *) malloc (sizeof(double) * n * n);\n",
    "\n",
    "  fill_matrix(A, n);\n",
    "  fill_matrix(B, n);\n",
    "\n",
    "  // Start measuring time\n",
    "  gettimeofday(&begin, 0);\n",
    "    \n",
    "  for(i = 0; i < n; i++) \n",
    "   for(j = 0; j < n; j++)\n",
    "     for(k = 0; k < n; k++) \n",
    "       C[i*n+j] += A[i*n+k] * B[k*n+j];\n",
    "  \n",
    "  // End measuring time\n",
    "  gettimeofday(&end, 0);\n",
    "    \n",
    "  long seconds = end.tv_sec - begin.tv_sec;\n",
    "  long microseconds = end.tv_usec - begin.tv_usec;\n",
    "  double elapsed = seconds + microseconds * 1e-6;\n",
    "    \n",
    "  printf(\"%d x %d  %.2f seconds\\n\", n, n, elapsed);  \n",
    "\n",
    "  //print_matrix(A,n);\n",
    "  //print_matrix(B,n);\n",
    "  //print_matrix(C,n);\n",
    "\n",
    "  return 0;\n",
    "}"
   ]
  },
  {
   "cell_type": "code",
   "execution_count": 14,
   "id": "-z4gsy6gyJLw",
   "metadata": {
    "id": "-z4gsy6gyJLw"
   },
   "outputs": [],
   "source": [
    "!gcc mm-time.c -o mm-time"
   ]
  },
  {
   "cell_type": "code",
   "execution_count": 15,
   "id": "ESxOTYfDyJLw",
   "metadata": {
    "colab": {
     "base_uri": "https://localhost:8080/"
    },
    "executionInfo": {
     "elapsed": 3065,
     "status": "ok",
     "timestamp": 1666529379824,
     "user": {
      "displayName": "Murilo Boratto",
      "userId": "13998345321799991370"
     },
     "user_tz": 180
    },
    "id": "ESxOTYfDyJLw",
    "outputId": "193a68ee-d2fd-4045-b2e8-9f8b9d94cd78"
   },
   "outputs": [
    {
     "name": "stdout",
     "output_type": "stream",
     "text": [
      "1000 x 1000  4.55 seconds\n"
     ]
    }
   ],
   "source": [
    "!./mm-time 1000"
   ]
  },
  {
   "cell_type": "markdown",
   "id": "mJNXHU3HyJLx",
   "metadata": {
    "id": "mJNXHU3HyJLx"
   },
   "source": [
    "#### How to profilling this code?"
   ]
  },
  {
   "cell_type": "markdown",
   "id": "5a1d478e-31be-4e44-951a-cada99efae67",
   "metadata": {},
   "source": [
    "##### GPROF"
   ]
  },
  {
   "cell_type": "code",
   "execution_count": 16,
   "id": "lCPt-qYnyJLx",
   "metadata": {
    "id": "lCPt-qYnyJLx"
   },
   "outputs": [],
   "source": [
    "!gcc mm-time.c -o mm-profilling-gprof -pg"
   ]
  },
  {
   "cell_type": "code",
   "execution_count": 17,
   "id": "hbh4n43byJLx",
   "metadata": {
    "colab": {
     "base_uri": "https://localhost:8080/"
    },
    "executionInfo": {
     "elapsed": 8661,
     "status": "ok",
     "timestamp": 1666529396407,
     "user": {
      "displayName": "Murilo Boratto",
      "userId": "13998345321799991370"
     },
     "user_tz": 180
    },
    "id": "hbh4n43byJLx",
    "outputId": "e5a5eef3-81e4-4763-fdc7-05ecd35342e0"
   },
   "outputs": [
    {
     "name": "stdout",
     "output_type": "stream",
     "text": [
      "1000 x 1000  4.36 seconds\n"
     ]
    }
   ],
   "source": [
    "!./mm-profilling-gprof 1000"
   ]
  },
  {
   "cell_type": "code",
   "execution_count": 18,
   "id": "lKl9USwFyJLy",
   "metadata": {
    "colab": {
     "base_uri": "https://localhost:8080/"
    },
    "executionInfo": {
     "elapsed": 411,
     "status": "ok",
     "timestamp": 1666529399027,
     "user": {
      "displayName": "Murilo Boratto",
      "userId": "13998345321799991370"
     },
     "user_tz": 180
    },
    "id": "lKl9USwFyJLy",
    "outputId": "8ccecf42-f2c7-48e7-89f6-e2cc24c44000"
   },
   "outputs": [
    {
     "name": "stdout",
     "output_type": "stream",
     "text": [
      "Flat profile:\n",
      "\n",
      "Each sample counts as 0.01 seconds.\n",
      "  %   cumulative   self              self     total           \n",
      " time   seconds   seconds    calls  ms/call  ms/call  name    \n",
      "100.41      4.39     4.39                             main\n",
      "  0.23      4.40     0.01        2     5.03     5.03  fill_matrix\n",
      "\f",
      "\n",
      "\t\t\tCall graph\n",
      "\n",
      "\n",
      "granularity: each sample hit covers 2 byte(s) for 0.23% of 4.40 seconds\n",
      "\n",
      "index % time    self  children    called     name\n",
      "                                                 <spontaneous>\n",
      "[1]    100.0    4.39    0.01                 main [1]\n",
      "                0.01    0.00       2/2           fill_matrix [2]\n",
      "-----------------------------------------------\n",
      "                0.01    0.00       2/2           main [1]\n",
      "[2]      0.2    0.01    0.00       2         fill_matrix [2]\n",
      "-----------------------------------------------\n",
      "\f",
      "\n",
      "Index by function name\n",
      "\n",
      "   [2] fill_matrix             [1] main\n"
     ]
    }
   ],
   "source": [
    "!gprof -b mm-profilling-gprof gmon.out"
   ]
  },
  {
   "cell_type": "markdown",
   "id": "d54b22e4-a12b-48eb-ba5f-9cca396f1b9c",
   "metadata": {},
   "source": [
    "##### VTUNE"
   ]
  },
  {
   "cell_type": "code",
   "execution_count": 19,
   "id": "4674c358-01c5-4768-a2d3-e393497c6138",
   "metadata": {},
   "outputs": [],
   "source": [
    "!gcc mm-time.c -o mm-profilling-vtune"
   ]
  },
  {
   "cell_type": "code",
   "execution_count": 20,
   "id": "ef08a54e-080b-43e4-8a57-c8c605eca6a2",
   "metadata": {},
   "outputs": [
    {
     "name": "stdout",
     "output_type": "stream",
     "text": [
      "vtune: Warning: Only user space will be profiled due to credentials lack. Consider changing /proc/sys/kernel/perf_event_paranoid file for enabling kernel space profiling.\n",
      "vtune: Collection started. To stop the collection, either press CTRL-C or enter from another console window: vtune -r /home/murilo/parallel-computing-applied/r000hs -command stop.\n",
      "1000 x 1000  4.51 seconds\n",
      "vtune: Collection stopped.\n",
      "vtune: Using result path `/home/murilo/parallel-computing-applied/r000hs'\n",
      "vtune: Executing actions 19 % Resolving information for `libc.so.6'            \n",
      "vtune: Warning: Cannot locate debugging information for file `/lib64/libc.so.6'.\n",
      "vtune: Executing actions 75 % Generating a report                              Elapsed Time: 4.632s\n",
      "    CPU Time: 4.510s\n",
      "        Effective Time: 4.510s\n",
      "            Idle: 0s\n",
      "            Poor: 4.510s\n",
      "            Ok: 0s\n",
      "            Ideal: 0s\n",
      "            Over: 0s\n",
      "        Spin Time: 0s\n",
      "        Overhead Time: 0s\n",
      "    Total Thread Count: 1\n",
      "    Paused Time: 0s\n",
      "\n",
      "Top Hotspots\n",
      "Function     Module               CPU Time\n",
      "-----------  -------------------  --------\n",
      "main         mm-profilling-vtune    4.500s\n",
      "fill_matrix  mm-profilling-vtune    0.010s\n",
      "Effective Physical Core Utilization: 2.7% (0.977 out of 36)\n",
      " | The metric value is low, which may signal a poor physical CPU cores\n",
      " | utilization caused by:\n",
      " |     - load imbalance\n",
      " |     - threading runtime overhead\n",
      " |     - contended synchronization\n",
      " |     - thread/process underutilization\n",
      " |     - incorrect affinity that utilizes logical cores instead of physical\n",
      " |       cores\n",
      " | Explore sub-metrics to estimate the efficiency of MPI and OpenMP parallelism\n",
      " | or run the Locks and Waits analysis to identify parallel bottlenecks for\n",
      " | other parallel runtimes.\n",
      " |\n",
      "    Effective Logical Core Utilization: 1.4% (0.977 out of 72)\n",
      "     | The metric value is low, which may signal a poor logical CPU cores\n",
      "     | utilization. Consider improving physical core utilization as the first\n",
      "     | step and then look at opportunities to utilize logical cores, which in\n",
      "     | some cases can improve processor throughput and overall performance of\n",
      "     | multi-threaded applications.\n",
      "     |\n",
      "Collection and Platform Info\n",
      "    Application Command Line: ./mm-profilling-vtune \"1000\" \n",
      "    Operating System: 3.10.0-1160.49.1.el7.x86_64 NAME=\"Red Hat Enterprise Linux Server\" VERSION=\"7.9 (Maipo)\" ID=\"rhel\" ID_LIKE=\"fedora\" VARIANT=\"Server\" VARIANT_ID=\"server\" VERSION_ID=\"7.9\" PRETTY_NAME=\"Red Hat Enterprise Linux Server 7.9 (Maipo)\" ANSI_COLOR=\"0;31\" CPE_NAME=\"cpe:/o:redhat:enterprise_linux:7.9:GA:server\" HOME_URL=\"https://www.redhat.com/\" BUG_REPORT_URL=\"https://bugzilla.redhat.com/\"  REDHAT_BUGZILLA_PRODUCT=\"Red Hat Enterprise Linux 7\" REDHAT_BUGZILLA_PRODUCT_VERSION=7.9 REDHAT_SUPPORT_PRODUCT=\"Red Hat Enterprise Linux\" REDHAT_SUPPORT_PRODUCT_VERSION=\"7.9\"\n",
      "    Computer Name: c003\n",
      "    Result Size: 3 MB \n",
      "    Collection start time: 14:54:53 24/03/2023 UTC\n",
      "    Collection stop time: 14:54:58 24/03/2023 UTC\n",
      "    Collector Type: Driverless Perf per-process counting,User-mode sampling and tracing\n",
      "    CPU\n",
      "        Name: Intel(R) Xeon(R) Processor code named Cascadelake\n",
      "        Frequency: 2.594 GHz \n",
      "        Logical CPU Count: 72\n",
      "\n",
      "If you want to skip descriptions of detected performance issues in the report,\n",
      "enter: vtune -report summary -report-knob show-issues=false -r <my_result_dir>.\n",
      "Alternatively, you may view the report in the csv format: vtune -report\n",
      "<report_name> -format=csv.\n",
      "vtune: Executing actions 100 % done                                            \n"
     ]
    }
   ],
   "source": [
    "!vtune -collect hotspots ./mm-profilling-vtune 1000"
   ]
  },
  {
   "cell_type": "markdown",
   "id": "8XMxBMeLyJL1",
   "metadata": {
    "id": "8XMxBMeLyJL1"
   },
   "source": [
    "### OpenMP"
   ]
  },
  {
   "cell_type": "code",
   "execution_count": 21,
   "id": "C_m8PlpyyJL1",
   "metadata": {
    "colab": {
     "base_uri": "https://localhost:8080/"
    },
    "executionInfo": {
     "elapsed": 246,
     "status": "ok",
     "timestamp": 1666529441953,
     "user": {
      "displayName": "Murilo Boratto",
      "userId": "13998345321799991370"
     },
     "user_tz": 180
    },
    "id": "C_m8PlpyyJL1",
    "outputId": "4cea6da7-f313-4504-85ef-04dfb23cca36"
   },
   "outputs": [
    {
     "name": "stdout",
     "output_type": "stream",
     "text": [
      "Writing mm-omp.c\n"
     ]
    }
   ],
   "source": [
    "%%writefile mm-omp.c\n",
    "#include <stdio.h>\n",
    "#include <stdlib.h>\n",
    "#include <omp.h>\n",
    "#include <sys/time.h>\n",
    "\n",
    "void fill_matrix(double *A, int n)\n",
    "{\n",
    "  for(int i = 0; i < n; i++)\n",
    "    for(int j = 0; j < n; j++)\n",
    "      A[i*n+j] = rand()%(10-1)*1;\n",
    "}\n",
    "\n",
    "void print_matrix(double *A, int n)\n",
    "{\n",
    "  for(int i = 0; i < n; i++){\n",
    "    for(int j = 0; j < n; j++)\n",
    "      printf(\"%1.2f\\t\", A[i*n+j]);\n",
    "   printf(\"\\n\");\n",
    "  }\n",
    "\n",
    "  printf(\"\\n\");\n",
    "}\n",
    "\n",
    "int main(int argc, char **argv)\n",
    "{\n",
    "  int n = atoi(argv[1]);  \n",
    "  int i, j, k;\n",
    "  struct timeval begin, end;\n",
    "  \n",
    "  double  *A = (double *) malloc(sizeof(double) * n * n);\n",
    "  double  *B = (double *) malloc(sizeof(double) * n * n);\n",
    "  double  *C = (double *) malloc(sizeof(double) * n * n);\n",
    "\n",
    "  fill_matrix(A,n);\n",
    "  fill_matrix(B,n);\n",
    "\n",
    "  gettimeofday(&begin, 0);\n",
    "     \n",
    "  #pragma omp parallel for private(i,j,k)\n",
    "   for(i = 0; i < n; i++) \n",
    "    for(j = 0; j < n; j++)\n",
    "      for(k = 0; k < n; k++) \n",
    "        C[i*n+j] += A[i*n+k] * B[k*n+j];\n",
    "    \n",
    "   gettimeofday(&end, 0);\n",
    "  \n",
    "   long seconds = end.tv_sec - begin.tv_sec;\n",
    "   long microseconds = end.tv_usec - begin.tv_usec;\n",
    "   double elapsed = seconds + microseconds*1e-6;\n",
    "    \n",
    "   printf(\"%d x %d  %.2f seconds\\n\", n, n, elapsed);    \n",
    "    \n",
    "   //print_matrix(A,n);\n",
    "   //print_matrix(B,n);\n",
    "   //print_matrix(C,n);\n",
    "\n",
    "   return 0;\n",
    "}"
   ]
  },
  {
   "cell_type": "code",
   "execution_count": 22,
   "id": "2JgO0tpbyJL2",
   "metadata": {
    "id": "2JgO0tpbyJL2"
   },
   "outputs": [],
   "source": [
    "!gcc mm-omp.c -o mm-omp -fopenmp -O3"
   ]
  },
  {
   "cell_type": "code",
   "execution_count": 29,
   "id": "nFLmUncjyJL2",
   "metadata": {
    "colab": {
     "base_uri": "https://localhost:8080/"
    },
    "executionInfo": {
     "elapsed": 646,
     "status": "ok",
     "timestamp": 1666529486235,
     "user": {
      "displayName": "Murilo Boratto",
      "userId": "13998345321799991370"
     },
     "user_tz": 180
    },
    "id": "nFLmUncjyJL2",
    "outputId": "75aaae82-fedf-4579-9b6e-6e2a968cfdbf"
   },
   "outputs": [
    {
     "name": "stdout",
     "output_type": "stream",
     "text": [
      "1000 x 1000  0.21 seconds\n"
     ]
    }
   ],
   "source": [
    "!OMP_NUM_THREADS=6 ./mm-omp 1000"
   ]
  },
  {
   "cell_type": "markdown",
   "id": "pTgr8x0GyJL2",
   "metadata": {
    "id": "pTgr8x0GyJL2"
   },
   "source": [
    "### CUDA"
   ]
  },
  {
   "cell_type": "code",
   "execution_count": 30,
   "id": "Ypu7QTttyJL3",
   "metadata": {
    "colab": {
     "base_uri": "https://localhost:8080/"
    },
    "executionInfo": {
     "elapsed": 8,
     "status": "ok",
     "timestamp": 1666556061590,
     "user": {
      "displayName": "Murilo Boratto",
      "userId": "13998345321799991370"
     },
     "user_tz": 180
    },
    "id": "Ypu7QTttyJL3",
    "outputId": "133eeb91-57b0-4892-eb59-9e4a6cac05db"
   },
   "outputs": [
    {
     "name": "stdout",
     "output_type": "stream",
     "text": [
      "Writing mm-CUDA.cu\n"
     ]
    }
   ],
   "source": [
    "%%writefile mm-CUDA.cu\n",
    "#include <stdio.h>\n",
    "#include <stdlib.h>\n",
    "#include <cuda.h>\n",
    "#include <sys/time.h>\n",
    "\n",
    "__global__ void kernel(double *A, double *B, double *C, int n) \n",
    "{  \n",
    "  int i = blockIdx.x * blockDim.x + threadIdx.x;\n",
    "  int j = blockIdx.y * blockDim.y + threadIdx.y;\n",
    "\n",
    "  if(i < n && j < n)\n",
    "    for( int k = 0; k < n; k++) \n",
    "       C[i*n+j] += A[i*n+k] * B[k*n+j];\n",
    "\n",
    "}\n",
    " \n",
    "void mult_matrix_cpu(double *A, double *B, double *C, int n) \n",
    "{\n",
    "   for(int i = 0; i < n; i++) \n",
    "      for(int j = 0; j < n; j++)\n",
    "         for(int k = 0; k < n; k++) \n",
    "            C[i*n+j]+=A[i*n+k]*B[k*n+j];\n",
    "        \n",
    "}\n",
    "\n",
    "void fill_matrix(double *A, int n)\n",
    "{ \n",
    "   for(int i=0; i < n; i++)\n",
    "     for(int j=0; j < n; j++)\n",
    "       A[i*n+j] = rand()%(10-1)*1;\n",
    "   \n",
    "}\n",
    "\n",
    "void print_matrix(double *A, int n)\n",
    "{\n",
    "  for(int i = 0; i < n; i++){\n",
    "    for(int j = 0; j < n; j++)\n",
    "      printf(\"%1.2f\\t\", A[i*n+j]);\n",
    "    printf(\"\\n\");\n",
    "  }\n",
    "\n",
    "  printf(\"\\n\");\n",
    "\n",
    "}\n",
    "\n",
    "int main(int argc, char **argv)\n",
    "{\n",
    "    int n = atoi(argv[1]);\n",
    "    int sizeblock = atoi(argv[2]);\n",
    "    struct timeval begin, end;\n",
    "\n",
    "    /*Host*/\n",
    "    double *A_host=(double *) malloc (n * n * sizeof(double));\n",
    "    double *B_host=(double *) malloc (n * n * sizeof(double));\n",
    "    double *C_host=(double *) malloc (n * n * sizeof(double));\n",
    "        \n",
    "    fill_matrix(A_host,n);\n",
    "    fill_matrix(B_host,n);\n",
    "      \n",
    "    //print_matrix(A_host,n);\n",
    "    //print_matrix(B_host,n);\n",
    "\n",
    "    gettimeofday(&begin, 0);\n",
    "    \n",
    "    /*Device*/\n",
    "    double *A_device;\n",
    "    double *B_device;\n",
    "    double *C_device;\n",
    "\n",
    "    cudaMalloc((void**)&A_device, n * n * sizeof(double) ); \n",
    "    cudaMalloc((void**)&B_device, n * n * sizeof(double) ); \n",
    "    cudaMalloc((void**)&C_device, n * n * sizeof(double) ); \n",
    "\n",
    "    cudaMemcpy(A_device, A_host, n * n * sizeof(double), cudaMemcpyHostToDevice ); \n",
    "    cudaMemcpy(B_device, B_host, n * n * sizeof(double), cudaMemcpyHostToDevice ); \n",
    "\n",
    "    /*Computational GRID: (Grid: 2D Block: 2D)*/\n",
    "    dim3 NUMBER_OF_BLOCKS ( (int) ceil( (float) n / sizeblock), (int) ceil( (float)n / sizeblock) );\n",
    "    dim3 NUMBER_OF_THREADS( sizeblock, sizeblock);  \n",
    "\n",
    "          kernel<<< NUMBER_OF_BLOCKS, NUMBER_OF_THREADS >>>(A_device, B_device, C_device, n);      \n",
    "          cudaDeviceSynchronize();\n",
    "\n",
    "    cudaMemcpy(C_host, C_device, n * n * sizeof(double), cudaMemcpyDeviceToHost ); \n",
    "\n",
    "    //print_matrix(C_host, n );\n",
    "\n",
    "    gettimeofday(&end, 0);\n",
    "    \n",
    "    long seconds = end.tv_sec - begin.tv_sec;\n",
    "    long microseconds = end.tv_usec - begin.tv_usec;\n",
    "    double elapsed = seconds + microseconds*1e-6;\n",
    "    \n",
    "    printf(\"%d x %d  %.3f seconds\\n\", n, n, elapsed);  \n",
    "    \n",
    "    cudaFree(A_device );\n",
    "    cudaFree(B_device );\n",
    "    cudaFree(C_device );\n",
    "  \n",
    "    return 0;\n",
    "}"
   ]
  },
  {
   "cell_type": "code",
   "execution_count": 31,
   "id": "G9eK7uvvyJL3",
   "metadata": {
    "id": "G9eK7uvvyJL3"
   },
   "outputs": [],
   "source": [
    "!nvcc mm-CUDA.cu -o mm-CUDA"
   ]
  },
  {
   "cell_type": "code",
   "execution_count": 33,
   "id": "9lQDO3hpyJL3",
   "metadata": {
    "colab": {
     "base_uri": "https://localhost:8080/"
    },
    "executionInfo": {
     "elapsed": 692,
     "status": "ok",
     "timestamp": 1666556070589,
     "user": {
      "displayName": "Murilo Boratto",
      "userId": "13998345321799991370"
     },
     "user_tz": 180
    },
    "id": "9lQDO3hpyJL3",
    "outputId": "d7a17746-13d9-405d-d122-c8e626b6a396"
   },
   "outputs": [
    {
     "name": "stdout",
     "output_type": "stream",
     "text": [
      "1000 x 1000  0.197 seconds\n"
     ]
    }
   ],
   "source": [
    "!./mm-CUDA 1000 64"
   ]
  },
  {
   "cell_type": "markdown",
   "id": "eTtb7CD_yJL4",
   "metadata": {
    "id": "eTtb7CD_yJL4"
   },
   "source": [
    "### OpenACC"
   ]
  },
  {
   "cell_type": "code",
   "execution_count": 34,
   "id": "ReO-ytcuyJL4",
   "metadata": {
    "id": "ReO-ytcuyJL4",
    "outputId": "eb1b7f54-b4fa-4f75-bb49-8cb64cabab36"
   },
   "outputs": [
    {
     "name": "stdout",
     "output_type": "stream",
     "text": [
      "Writing mm-openacc.c\n"
     ]
    }
   ],
   "source": [
    "%%writefile mm-openacc.c\n",
    "#include <stdio.h>\n",
    "#include <stdlib.h>\n",
    "#include <sys/time.h>\n",
    "\n",
    "void fill_matrix(double *A, int n)\n",
    "{\n",
    "  for(int i = 0; i < n; i++)\n",
    "    for(int j = 0; j < n; j++)\n",
    "      A[i*n+j] = rand()%(10-1)*1; \n",
    "}\n",
    "\n",
    "void print_matrix(double *A, int n)\n",
    "{\n",
    "  for(int i = 0; i < n; i++){\n",
    "    for(int j = 0; j < n; j++)\n",
    "      printf(\"%1.2f\\t\", A[i*n+j]);\n",
    "    printf(\"\\n\");\n",
    "  }\n",
    "\n",
    "  printf(\"\\n\");\n",
    "\n",
    "}\n",
    "\n",
    "int main(int argc, char **argv)\n",
    "{\n",
    "  int n = atoi(argv[1]);  \n",
    "  int i, j, k;\n",
    "  struct timeval begin, end;\n",
    " \n",
    "  double *A = (double *) malloc (sizeof(double) * n * n);\n",
    "  double *B = (double *) malloc (sizeof(double) * n * n);\n",
    "  double *C = (double *) malloc (sizeof(double) * n * n);\n",
    "\n",
    "  fill_matrix(A,n);\n",
    "  fill_matrix(B,n);\n",
    " \n",
    "  gettimeofday(&begin, 0);\n",
    "      \n",
    "  #pragma acc data present_or_copyin(A[:n*n], B[:n*n], n) copyout(C[:n*n])\n",
    "   #pragma acc parallel \n",
    "    #pragma acc loop\n",
    "     for(i = 0; i < n; i++) \n",
    "       for(j = 0; j < n; j++)\n",
    "         for(k = 0; k < n; k++) \n",
    "           C[i*n+j] += A[i*n+k] * B[k*n+j];\n",
    "\n",
    "   gettimeofday(&end, 0); \n",
    "  \n",
    "   long seconds = end.tv_sec - begin.tv_sec;\n",
    "   long microseconds = end.tv_usec - begin.tv_usec;\n",
    "   double elapsed = seconds + microseconds*1e-6;\n",
    "    \n",
    "    printf(\"%d x %d  %.2f seconds\\n\", n, n, elapsed);  \n",
    "     \n",
    "  //print_matrix(A,n);\n",
    "  //print_matrix(B,n);\n",
    "  //print_matrix(C,n);\n",
    "\n",
    "  return 0;\n",
    "}"
   ]
  },
  {
   "cell_type": "code",
   "execution_count": 35,
   "id": "Aif58O7xyJL4",
   "metadata": {
    "id": "Aif58O7xyJL4",
    "outputId": "42717882-1845-4955-f24b-ae1688da9cc5"
   },
   "outputs": [
    {
     "name": "stdout",
     "output_type": "stream",
     "text": [
      "\n",
      "WARNING: Your license to use PGI Community Edition version 19.10 has expired.\n",
      "Please obtain a new version at http://www.pgroup.com/community or\n",
      "contact PGI Sales at sales@pgroup.com to obtain a perpetual license.\n",
      "\n"
     ]
    }
   ],
   "source": [
    "!pgcc mm-openacc.c -o mm-openacc -acc"
   ]
  },
  {
   "cell_type": "code",
   "execution_count": 36,
   "id": "YNr5hHVYyJL5",
   "metadata": {
    "id": "YNr5hHVYyJL5",
    "outputId": "d311bd04-2828-4c37-ec76-643995de17ca"
   },
   "outputs": [
    {
     "name": "stdout",
     "output_type": "stream",
     "text": [
      "1000 x 1000  0.64 seconds\n"
     ]
    }
   ],
   "source": [
    "!./mm-openacc 1000"
   ]
  },
  {
   "cell_type": "markdown",
   "id": "nU4xEUl4yJL5",
   "metadata": {
    "id": "nU4xEUl4yJL5"
   },
   "source": [
    "### OpenMP5"
   ]
  },
  {
   "cell_type": "code",
   "execution_count": 37,
   "id": "Z6xMCqBeyJL5",
   "metadata": {
    "id": "Z6xMCqBeyJL5",
    "outputId": "28667a6c-a198-4ac1-b396-9cfbc87702de"
   },
   "outputs": [
    {
     "name": "stdout",
     "output_type": "stream",
     "text": [
      "Writing mm-omp5.c\n"
     ]
    }
   ],
   "source": [
    "%%writefile mm-omp5.c\n",
    "#include <stdio.h>\n",
    "#include <stdlib.h>\n",
    "#include <omp.h>\n",
    "#include <sys/time.h>\n",
    "\n",
    "void fill_matrix(double *A, int n)\n",
    "{ \n",
    "  for(int i = 0; i < n; i++)\n",
    "    for(int j = 0; j < n; j++)\n",
    "      A[i*n+j] = rand()%(10-1)*1; \n",
    "}\n",
    "\n",
    "void print_matrix(double *A, int n)\n",
    "{\n",
    "  for(int i = 0; i < n; i++){\n",
    "    for(int j = 0; j < n; j++)\n",
    "      printf(\"%1.2f\\t\", A[i*n+j]);\n",
    "    printf(\"\\n\");\n",
    "  }\n",
    "  \n",
    "  printf(\"\\n\");\n",
    "}\n",
    "\n",
    "int main(int argc, char **argv)\n",
    "{\n",
    "  int n = atoi(argv[1]);  \n",
    "  int i, j, k;\n",
    "  struct timeval begin, end;\n",
    "\n",
    "  double  *A = (double *) malloc (sizeof(double) * n * n);\n",
    "  double  *B = (double *) malloc (sizeof(double) * n * n);\n",
    "  double  *C = (double *) malloc (sizeof(double) * n * n);\n",
    "\n",
    "  fill_matrix(A,n);\n",
    "  fill_matrix(B,n);\n",
    "\n",
    "  gettimeofday(&begin, 0);\n",
    "    \n",
    "  #pragma omp target data map(to:A[:n*n], B[:n*n], n) map(from:C[:n*n])\n",
    "  {\n",
    "   #pragma omp target teams distribute parallel for private(i,j,k)\n",
    "   for(i = 0; i < n; i++) \n",
    "     for(j = 0; j < n; j++)\n",
    "       for(k = 0; k < n; k++) \n",
    "         C[i*n+j] += A[i*n+k] * B[k*n+j];\n",
    "  }\n",
    "\n",
    "   gettimeofday(&end, 0); \n",
    "    \n",
    "   long seconds = end.tv_sec - begin.tv_sec;\n",
    "   long microseconds = end.tv_usec - begin.tv_usec;\n",
    "   double elapsed = seconds + microseconds*1e-6;\n",
    "    \n",
    "    printf(\"%d x %d  %.2f seconds\\n\", n, n, elapsed);   \n",
    "  \n",
    "  //print_matrix(A,n);\n",
    "  //print_matrix(B,n);\n",
    "  //print_matrix(C,n);\n",
    "\n",
    "  return 0;\n",
    "}"
   ]
  },
  {
   "cell_type": "code",
   "execution_count": 38,
   "id": "CmLRUJvIyJL5",
   "metadata": {
    "id": "CmLRUJvIyJL5"
   },
   "outputs": [],
   "source": [
    "!clang mm-omp5.c -o mm-omp5 -fopenmp -fopenmp-targets=nvptx64-nvidia-cuda"
   ]
  },
  {
   "cell_type": "code",
   "execution_count": 39,
   "id": "bsaExBeTyJL6",
   "metadata": {
    "id": "bsaExBeTyJL6",
    "outputId": "901bf666-b753-49b7-a3a4-b1de58755b59"
   },
   "outputs": [
    {
     "name": "stdout",
     "output_type": "stream",
     "text": [
      "1000 x 1000  2.11 seconds\n"
     ]
    }
   ],
   "source": [
    "!./mm-omp5 1000"
   ]
  },
  {
   "cell_type": "markdown",
   "id": "4241eb5c-b38b-4357-81a3-3efa506b59c0",
   "metadata": {},
   "source": [
    "### Comparison Performance Analysis"
   ]
  },
  {
   "cell_type": "markdown",
   "id": "-s2IqLFfyJL6",
   "metadata": {
    "id": "-s2IqLFfyJL6"
   },
   "source": [
    "| Program Version      | Execution Time (sec.)  | Speedup      |\n",
    "| :---                 |    :----:              |        ---:  |\n",
    "| Serial               | 4.55                   | 1X           |\n",
    "| OpenMP T=36          | 0.05                   | 91X          |\n",
    "| OpenACC              | 0.64                   | 7X           | \n",
    "| CUDA                 | 0.19                   | 24X          | \n",
    "| OpenMP5              | 2.11                   | 2X           | "
   ]
  },
  {
   "cell_type": "markdown",
   "id": "bPQOHun4yJL6",
   "metadata": {
    "id": "bPQOHun4yJL6"
   },
   "source": [
    "## Next"
   ]
  },
  {
   "cell_type": "markdown",
   "id": "-wJF9DQryJL7",
   "metadata": {
    "id": "-wJF9DQryJL7"
   },
   "source": [
    "Please continue to the next notebook: Please continue to the next notebook: [Accelerate a Thermal Conductivity Application](2-heat.ipynb)."
   ]
  }
 ],
 "metadata": {
  "accelerator": "GPU",
  "colab": {
   "collapsed_sections": [
    "FUm5HQBwyJLm",
    "Jq8Zc_8byJLp",
    "bzhJyfWIyJLr",
    "bPQOHun4yJL6"
   ],
   "machine_shape": "hm",
   "provenance": [
    {
     "file_id": "https://github.com/muriloboratto/SIINTEC2022/blob/master/1-SIINTEC2022-Introduction.ipynb",
     "timestamp": 1666528573400
    }
   ]
  },
  "gpuClass": "premium",
  "kernelspec": {
   "display_name": "Python 3 (ipykernel)",
   "language": "python",
   "name": "python3"
  },
  "language_info": {
   "codemirror_mode": {
    "name": "ipython",
    "version": 3
   },
   "file_extension": ".py",
   "mimetype": "text/x-python",
   "name": "python",
   "nbconvert_exporter": "python",
   "pygments_lexer": "ipython3",
   "version": "3.8.8"
  }
 },
 "nbformat": 4,
 "nbformat_minor": 5
}
