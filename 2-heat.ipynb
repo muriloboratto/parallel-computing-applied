{
 "cells": [
  {
   "cell_type": "markdown",
   "metadata": {
    "tags": []
   },
   "source": [
    "<div align=\"center\"><h1> Accelerate a Thermal Conductivity Application </h1></div>"
   ]
  },
  {
   "cell_type": "markdown",
   "metadata": {},
   "source": [
    "Thermal conductivity can be defined as the rate at which heat is transferred by conduction through a unit cross-section area of a material, when a temperature gradient exits perpendicular to the area. We have considered a 2D heat conduction application that is a stencil-based codeas the application    to    run    on    multicore and GPUs environments.\n",
    "\n",
    "![Thermal Conductivity](./images/heat-conduction-2.png)\n",
    "\n",
    "In the following applied problem, you will be accelerating an application that simulates the thermal conduction of silver in 2 dimensional space.\n",
    "\n",
    "Convert the `step_kernel` function inside [`heat-sequential.cpp`] to execute on the multicore and GPU, and modify the `main` function to properly allocate data for use on CPU and GPU. Because this code involves floating point calculations, different processors, or even simply reordering operations on the same processor, can result in slightly different results. For this reason the error checking code uses an error threshold, instead of looking for an exact match. "
   ]
  },
  {
   "cell_type": "markdown",
   "metadata": {},
   "source": [
    "## ⊗ Sequential"
   ]
  },
  {
   "cell_type": "code",
   "execution_count": null,
   "metadata": {},
   "outputs": [],
   "source": [
    "%%writefile heat-sequential.cpp\n",
    "#include <iostream>\n",
    "#include <stdio.h>\n",
    "#include <math.h>\n",
    "#include <sys/time.h>\n",
    "\n",
    "// Simple define to index into a 1D array from 2D space\n",
    "#define I2D(num, c, r) ((r)*(num)+(c))\n",
    "\n",
    "void step_kernel(int ni, int nj, float fact, float* temp_in, float* temp_out)\n",
    "{\n",
    "  int i00, im10, ip10, i0m1, i0p1;\n",
    "  float d2tdx2, d2tdy2;\n",
    "  int i, j;\n",
    "\n",
    "  // loop over all points in domain (except boundary)\n",
    "  for ( j=1; j < nj-1; j++ ) {\n",
    "    for ( i=1; i < ni-1; i++ ) {\n",
    "      // find indices into linear memory\n",
    "      // for central point and neighbours\n",
    "      i00 = I2D(ni, i, j);\n",
    "      im10 = I2D(ni, i-1, j);\n",
    "      ip10 = I2D(ni, i+1, j);\n",
    "      i0m1 = I2D(ni, i, j-1);\n",
    "      i0p1 = I2D(ni, i, j+1);\n",
    "\n",
    "      // evaluate derivatives\n",
    "      d2tdx2 = temp_in[im10]-2*temp_in[i00]+temp_in[ip10];\n",
    "      d2tdy2 = temp_in[i0m1]-2*temp_in[i00]+temp_in[i0p1];\n",
    "\n",
    "      // update temperatures\n",
    "      temp_out[i00] = temp_in[i00]+fact*(d2tdx2 + d2tdy2);\n",
    "    }\n",
    "  }\n",
    "}\n",
    "\n",
    "int main(int argc, char **argv)\n",
    "{\n",
    "  int istep;\n",
    "  int nstep = 20000; // number of time steps\n",
    "\n",
    "  // Specify our 2D dimensions\n",
    "  const int ni = 1024;\n",
    "  const int nj = 1024;\n",
    "  float tfac = 8.418e-5; // thermal diffusivity of silver\n",
    "\n",
    "  float *temp1_ref, *temp2_ref, *temp_tmp, *temp1, *temp2;\n",
    "\n",
    "  const int size = ni * nj * sizeof(float);\n",
    "\n",
    "  temp1_ref = (float*)malloc(size);\n",
    "  temp2_ref = (float*)malloc(size);\n",
    "  temp1     = (float*)malloc(size);\n",
    "  temp2     = (float*)malloc(size);\n",
    "\n",
    "  // Start measuring time\n",
    "  struct timeval begin, end;\n",
    "  gettimeofday(&begin, 0);\n",
    "\n",
    "  // Initialize with random data\n",
    "  for(int i = 0; i < ni*nj; ++i)\n",
    "    temp1_ref[i] = temp2_ref[i] = temp1[i] = temp2[i] = (float)rand()/(float)(RAND_MAX/100.0f);\n",
    "\n",
    "  // Execute the kernel version\n",
    "  for(istep=0; istep < nstep; istep++) {\n",
    "    step_kernel(ni, nj, tfac, temp1_ref, temp2_ref);\n",
    "\n",
    "    // swap the temperature pointers\n",
    "    temp_tmp = temp1_ref;\n",
    "    temp1_ref = temp2_ref;\n",
    "    temp2_ref= temp_tmp;\n",
    "  }\n",
    "\n",
    "  gettimeofday(&end, 0);\n",
    "  long seconds = end.tv_sec - begin.tv_sec;\n",
    "  long microseconds = end.tv_usec - begin.tv_usec;\n",
    "  double elapsed = seconds + microseconds*1e-6;\n",
    "    \n",
    "  printf(\"%d x %d (%d) %.3f seconds\\n\", ni, nj, nstep, elapsed);\n",
    "\n",
    "  free( temp1_ref );\n",
    "  free( temp2_ref );\n",
    "  free( temp1 );\n",
    "  free( temp2 );\n",
    "\n",
    "  return 0;\n",
    "}"
   ]
  },
  {
   "cell_type": "code",
   "execution_count": null,
   "metadata": {},
   "outputs": [],
   "source": [
    "!g++ heat-sequential.cpp -o heat-sequential -O3"
   ]
  },
  {
   "cell_type": "code",
   "execution_count": null,
   "metadata": {},
   "outputs": [],
   "source": [
    "!./heat-sequential"
   ]
  },
  {
   "cell_type": "markdown",
   "metadata": {},
   "source": [
    "## ⊗ OpenMP"
   ]
  },
  {
   "cell_type": "markdown",
   "metadata": {},
   "source": [
    "In  the  first  step we  try  to  optimize  this  code for  a  multicore  system.  Here  we  insert OpenMP parallel for directive before the nested loop in step_kernel. This directive tells the compiler to distribute the work among all threads set in `OMP_NUM_THREADS` environment  variable.  We  use  the  commonly  used  host  compiler GCC to  compile  this program. First we simply insert the following one line directive:"
   ]
  },
  {
   "cell_type": "markdown",
   "metadata": {},
   "source": [
    "~~~c++\n",
    "#pragma omp parallel for private(i, j, i00, im10, ip10, i0m1, i0p1, d2tdx2, d2tdy2) shared(fact,temp_in,temp_out)\n",
    "~~~"
   ]
  },
  {
   "cell_type": "markdown",
   "metadata": {},
   "source": [
    "The directive tells the compiler to convert the following loop nest into a kernel that will be executed on the accelerator (in this case CPU cores is the accelerator). In the following the code:"
   ]
  },
  {
   "cell_type": "code",
   "execution_count": null,
   "metadata": {},
   "outputs": [],
   "source": [
    "%%writefile heat-omp.cpp\n",
    "#include <iostream>\n",
    "#include <stdio.h>\n",
    "#include <stdlib.h>\n",
    "#include <math.h>\n",
    "#include <sys/time.h>\n",
    "#include <omp.h>\n",
    "\n",
    "// Simple define to index into a 1D array from 2D space\n",
    "#define I2D(num, c, r) ((r)*(num)+(c))\n",
    "\n",
    "void step_kernel_OpenMP(int ni, int nj, float fact, float* temp_in, float* temp_out)\n",
    "{\n",
    "  int i00, im10, ip10, i0m1, i0p1;\n",
    "  float d2tdx2, d2tdy2;\n",
    "  int i, j;\n",
    "\n",
    " #pragma omp parallel for private(i, j, i00, im10, ip10, i0m1, i0p1, d2tdx2, d2tdy2) shared(fact,temp_in,temp_out)\n",
    "  // loop over all points in domain (except boundary)\n",
    "  for ( j=1; j < nj-1; j++ ) {\n",
    "    for ( i=1; i < ni-1; i++ ) {\n",
    "      // find indices into linear memory\n",
    "      // for central point and neighbours\n",
    "      i00 = I2D(ni, i, j);\n",
    "      im10 = I2D(ni, i-1, j);\n",
    "      ip10 = I2D(ni, i+1, j);\n",
    "      i0m1 = I2D(ni, i, j-1);\n",
    "      i0p1 = I2D(ni, i, j+1);\n",
    "\n",
    "      // evaluate derivatives\n",
    "      d2tdx2 = temp_in[im10]-2*temp_in[i00]+temp_in[ip10];\n",
    "      d2tdy2 = temp_in[i0m1]-2*temp_in[i00]+temp_in[i0p1];\n",
    "\n",
    "      // update temperatures\n",
    "      temp_out[i00] = temp_in[i00]+fact*(d2tdx2 + d2tdy2);\n",
    "    }\n",
    "  }\n",
    "}\n",
    "\n",
    "int main(int argc, char **argv)\n",
    "{\n",
    "  int istep;\n",
    "  int nstep = 20000; // number of time steps\n",
    "\n",
    "  // Specify our 2D dimensions\n",
    "  const int ni = 1024;\n",
    "  const int nj = 1024;\n",
    "  float tfac = 8.418e-5; // thermal diffusivity of silver\n",
    "\n",
    "  float *temp1_ref, *temp2_ref, *temp_tmp, *temp1, *temp2;\n",
    "\n",
    "  const int size = ni * nj * sizeof(float);\n",
    "\n",
    "  temp1_ref = (float*)malloc(size);\n",
    "  temp2_ref = (float*)malloc(size);\n",
    "  temp1     = (float*)malloc(size);\n",
    "  temp2     = (float*)malloc(size);\n",
    "\n",
    "  // Start measuring time\n",
    "    struct timeval begin, end;\n",
    "    gettimeofday(&begin, 0);\n",
    "\n",
    "  // Initialize with random data\n",
    "  for (int i = 0; i < ni*nj; ++i) {\n",
    "    temp1_ref[i] = temp2_ref[i] = temp1[i] = temp2[i] = (float)rand()/(float)(RAND_MAX/100.0f);\n",
    "  }\n",
    "\n",
    "  // Execute the kernel version\n",
    "  for (istep=0; istep < nstep; istep++) {\n",
    "    step_kernel_OpenMP(ni, nj, tfac, temp1_ref, temp2_ref);\n",
    "\n",
    "    // swap the temperature pointers\n",
    "    temp_tmp = temp1_ref;\n",
    "    temp1_ref = temp2_ref;\n",
    "    temp2_ref= temp_tmp;\n",
    "  }\n",
    "\n",
    "  gettimeofday(&end, 0);\n",
    "  long seconds = end.tv_sec - begin.tv_sec;\n",
    "  long microseconds = end.tv_usec - begin.tv_usec;\n",
    "  double elapsed = seconds + microseconds*1e-6;\n",
    "    \n",
    "  printf(\"%d x %d (%d) %.3f seconds\\n\", ni, nj, nstep, elapsed);\n",
    "\n",
    "  free( temp1_ref );\n",
    "  free( temp2_ref );\n",
    "  free( temp1);\n",
    "  free( temp2);\n",
    "\n",
    "  return 0;\n",
    "}"
   ]
  },
  {
   "cell_type": "code",
   "execution_count": null,
   "metadata": {},
   "outputs": [],
   "source": [
    "!g++ heat-omp.cpp -o heat-omp -fopenmp -O3"
   ]
  },
  {
   "cell_type": "code",
   "execution_count": null,
   "metadata": {},
   "outputs": [],
   "source": [
    "!OMP_NUM_THREADS=4 ./heat-omp"
   ]
  },
  {
   "cell_type": "markdown",
   "metadata": {},
   "source": [
    "The following table the performance and speedup of OpenMP code compared to the serial code. It does not show significant speedup because the kernel where we have inserted the OpenMP parallel for directive is inside the main loop, therefore the overhead incurred is quite high; creating and destroying threads when enteringand exitingthe parallel region respectively."
   ]
  },
  {
   "cell_type": "markdown",
   "metadata": {},
   "source": [
    "| Program Version      | Execution Time (sec.)  | Speedup     |\n",
    "| :---                 |    :----:              |        ---: |\n",
    "| Serial               | 9.76                   | 1X           |\n",
    "| OpenMP T=2           | 4.66                   | 2.09X        |\n",
    "| OpenMP T=4           | 2.35                   | 4.15X        |\n",
    "| OpenMP T=6           | 1.64                   | 5.95X        |\n",
    "| OpenMP T=8           | 1.29                   | 7.56X        |   \n",
    "| OpenMP T=16          | 0.75                   | 13.01X       |   "
   ]
  },
  {
   "cell_type": "markdown",
   "metadata": {},
   "source": [
    "## ⊗ OpenACC"
   ]
  },
  {
   "cell_type": "markdown",
   "metadata": {},
   "source": [
    "In this step we will see if we can improve the performance by using OpenACC directives. Here we will show how to parallelize the code with PGI’s compiler. First we simply insert the following one line directive:"
   ]
  },
  {
   "cell_type": "markdown",
   "metadata": {},
   "source": [
    "~~~c++\n",
    "#pragma acc kernels copyin(temp_in[0:ni*nj]) copy(temp_out[0:ni*nj])\n",
    "~~~"
   ]
  },
  {
   "cell_type": "markdown",
   "metadata": {},
   "source": [
    "The directive tells the compiler to convert the following loop nest into a kernel that will be executed on the accelerator (in this case GPU is the accelerator). We also specifythat data temp_in should  becopied to the device before the kernel  execution but  not  copied back to the host after the kernel execution. The data temp_out needs to be both copied to the device before the kernel  execution and  copied  back  to  the  host  after the kernel execution.The  reason  that temp_out also  needs  to  be  copied  to the device  is  that  the kernel only updates the inner points value, while temp_out also includes boundary points values. If we just use copy out(temp_out), then the boundary points values that transferred to  the  host  would  be  garbage  values. "
   ]
  },
  {
   "cell_type": "code",
   "execution_count": null,
   "metadata": {},
   "outputs": [],
   "source": [
    "%%writefile heat-acc.c\n",
    "#include <stdio.h>\n",
    "#include <stdlib.h>\n",
    "#include <math.h>\n",
    "#include <sys/time.h>\n",
    "\n",
    "// Simple define to index into a 1D array from 2D space\n",
    "#define I2D(num, c, r) ((r)*(num)+(c))\n",
    "\n",
    "void step_kernel_OpenACC(int ni, int nj, float fact, float* temp_in, float* temp_out)\n",
    "{\n",
    "  int i00, im10, ip10, i0m1, i0p1;\n",
    "  float d2tdx2, d2tdy2;\n",
    "  int i, j;\n",
    "\n",
    "  #pragma acc kernels present(temp_in[0:ni*nj],temp_out[0:ni*nj])\n",
    "  #pragma acc loop collapse(2) independent\n",
    "  // loop over all points in domain (except boundary)\n",
    "  for ( j=1; j < nj-1; j++ ) {\n",
    "    for ( i=1; i < ni-1; i++ ) {\n",
    "      // find indices into linear memory\n",
    "      // for central point and neighbours\n",
    "      i00 = I2D(ni, i, j);\n",
    "      im10 = I2D(ni, i-1, j);\n",
    "      ip10 = I2D(ni, i+1, j);\n",
    "      i0m1 = I2D(ni, i, j-1);\n",
    "      i0p1 = I2D(ni, i, j+1);\n",
    "\n",
    "      // evaluate derivatives\n",
    "      d2tdx2 = temp_in[im10]-2*temp_in[i00]+temp_in[ip10];\n",
    "      d2tdy2 = temp_in[i0m1]-2*temp_in[i00]+temp_in[i0p1];\n",
    "\n",
    "      // update temperatures\n",
    "      temp_out[i00] = temp_in[i00]+fact*(d2tdx2 + d2tdy2);\n",
    "    }\n",
    "  }\n",
    "}\n",
    "\n",
    "int main(int argc, char **argv)\n",
    "{\n",
    "  int istep;\n",
    "  int nstep = 20000; // number of time steps\n",
    "\n",
    "  // Specify our 2D dimensions\n",
    "  const int ni = 1024;\n",
    "  const int nj = 1024;\n",
    "  float tfac = 8.418e-5; // thermal diffusivity of silver\n",
    "\n",
    "  float *temp1_ref, *temp2_ref, *temp_tmp, *temp1, *temp2;\n",
    "\n",
    "  const int size = ni * nj * sizeof(float);\n",
    "\n",
    "  temp1_ref = (float*)malloc(size);\n",
    "  temp2_ref = (float*)malloc(size);\n",
    "  temp1     = (float*)malloc(size);\n",
    "  temp2     = (float*)malloc(size);\n",
    "\n",
    "  // Start measuring time\n",
    "  struct timeval begin, end;\n",
    "  gettimeofday(&begin, 0);\n",
    "\n",
    "  // Initialize with random data\n",
    "  for( int i = 0; i < ni*nj; ++i) {\n",
    "    temp1_ref[i] = temp2_ref[i] = temp1[i] = temp2[i] = (float)rand()/(float)(RAND_MAX/100.0f);\n",
    "  }\n",
    "\n",
    "  // Execute the kernel version\n",
    "  #pragma acc data copy(temp1_ref[0:ni*nj]) copyin(temp2_ref[0:ni*nj]) deviceptr(temp_tmp)\n",
    "  for (istep=0; istep < nstep; istep++) {\n",
    "    step_kernel_OpenACC(ni, nj, tfac, temp1_ref, temp2_ref);\n",
    "\n",
    "  // swap the temperature pointers\n",
    "   temp_tmp = temp1_ref;\n",
    "   temp1_ref = temp2_ref;\n",
    "   temp2_ref= temp_tmp;\n",
    "  }\n",
    "\n",
    "  gettimeofday(&end, 0);\n",
    "  long seconds = end.tv_sec - begin.tv_sec;\n",
    "  long microseconds = end.tv_usec - begin.tv_usec;\n",
    "  double elapsed = seconds + microseconds*1e-6;\n",
    "    \n",
    "  printf(\"%d x %d (%d) %.3f seconds\\n\", ni, nj, nstep, elapsed);\n",
    "\n",
    "  free( temp1_ref );\n",
    "  free( temp2_ref );\n",
    "  free( temp1);\n",
    "  free( temp2);\n",
    "\n",
    "  return 0;\n",
    "}"
   ]
  },
  {
   "cell_type": "code",
   "execution_count": null,
   "metadata": {},
   "outputs": [],
   "source": [
    "!pgcc heat-acc.c -o heat-acc -acc -O3"
   ]
  },
  {
   "cell_type": "code",
   "execution_count": null,
   "metadata": {},
   "outputs": [],
   "source": [
    "!./heat-acc"
   ]
  },
  {
   "cell_type": "markdown",
   "metadata": {},
   "source": [
    "We once again compare the performances obtained by OpenACC against the OpenMP and the serial version. The following table high lights the performance numbers."
   ]
  },
  {
   "cell_type": "markdown",
   "metadata": {},
   "source": [
    "| Program Version      | Execution Time (sec.)  | Speedup     |\n",
    "| :---                 |    :----:              |        ---: |\n",
    "| Serial               | 9.76                   | 1X           |\n",
    "| OpenMP T=16          | 0.75                   | 13.01X       |  \n",
    "| OpenACC              | 0.64                   | 15.25X       | "
   ]
  },
  {
   "cell_type": "markdown",
   "metadata": {},
   "source": [
    "## ⊗ CUDA"
   ]
  },
  {
   "cell_type": "code",
   "execution_count": null,
   "metadata": {},
   "outputs": [],
   "source": [
    "%%writefile heat-cuda.cu\n",
    "#include <stdio.h>\n",
    "#include <stdlib.h>\n",
    "#include <math.h>\n",
    "#include <sys/time.h>\n",
    "#include <cuda.h>\n",
    "\n",
    "// Simple define to index into a 1D array from 2D space\n",
    "#define I2D(num, c, r) ((r)*(num)+(c))\n",
    "\n",
    "__global__ void step_kernel_mod(int ni, int nj, float fact, float* temp_in, float* temp_out)\n",
    "{\n",
    "  int i00, im10, ip10, i0m1, i0p1;\n",
    "  float d2tdx2, d2tdy2;\n",
    "\n",
    "  int j = blockIdx.x * blockDim.x + threadIdx.x;\n",
    "  int i = blockIdx.y * blockDim.y + threadIdx.y;\n",
    "\n",
    "  // loop over all points in domain (except boundary)\n",
    "  if (j > 0 && i > 0 && j < nj-1 && i < ni-1) {\n",
    "    // find indices into linear memory\n",
    "    // for central point and neighbours\n",
    "    i00 = I2D(ni, i, j);\n",
    "    im10 = I2D(ni, i-1, j);\n",
    "    ip10 = I2D(ni, i+1, j);\n",
    "    i0m1 = I2D(ni, i, j-1);\n",
    "    i0p1 = I2D(ni, i, j+1);\n",
    "\n",
    "    // evaluate derivatives\n",
    "    d2tdx2 = temp_in[im10]-2*temp_in[i00]+temp_in[ip10];\n",
    "    d2tdy2 = temp_in[i0m1]-2*temp_in[i00]+temp_in[i0p1];\n",
    "\n",
    "    // update temperatures\n",
    "    temp_out[i00] = temp_in[i00]+fact*(d2tdx2 + d2tdy2);\n",
    "  }\n",
    "}\n",
    "\n",
    "int main(int argc, char **argv)\n",
    "{\n",
    "  int istep;\n",
    "  int nstep = 20000; // number of time steps\n",
    "\n",
    "  // Specify our 2D dimensions\n",
    "  const int ni = 1024;\n",
    "  const int nj = 1024;\n",
    "  float tfac = 8.418e-5; // thermal diffusivity of silver\n",
    "\n",
    "  float *temp1_ref, *temp2_ref, *temp1, *temp2, *temp_tmp;\n",
    "\n",
    "  const int size = ni * nj * sizeof(float);\n",
    "\n",
    "  temp1_ref = (float*)malloc(size);\n",
    "  temp2_ref = (float*)malloc(size);\n",
    "  cudaMallocManaged(&temp1, size);\n",
    "  cudaMallocManaged(&temp2, size);\n",
    "\n",
    "\n",
    "  // Start measuring time\n",
    "    struct timeval begin, end;\n",
    "    gettimeofday(&begin, 0);\n",
    " \n",
    "  // Initialize with random data\n",
    "  for(int i = 0; i < ni*nj; ++i) {\n",
    "    temp1_ref[i] = temp2_ref[i] = temp1[i] = temp2[i] = (float)rand()/(float)(RAND_MAX/100.0f);\n",
    "  }\n",
    "\n",
    "  dim3 tblocks(32, 16, 1);\n",
    "  dim3 grid((nj/tblocks.x)+1, (ni/tblocks.y)+1, 1);\n",
    "  \n",
    "  // Execute the modified version using same data\n",
    "  for (istep=0; istep < nstep; istep++) {\n",
    "    step_kernel_mod<<< grid, tblocks >>>(ni, nj, tfac, temp1, temp2);\n",
    "\n",
    "    // swap the temperature pointers\n",
    "    temp_tmp = temp1;\n",
    "    temp1 = temp2;\n",
    "    temp2= temp_tmp;\n",
    "  }\n",
    "\n",
    "  gettimeofday(&end, 0);\n",
    "  long seconds = end.tv_sec - begin.tv_sec;\n",
    "  long microseconds = end.tv_usec - begin.tv_usec;\n",
    "  double elapsed = seconds + microseconds*1e-6;\n",
    "    \n",
    "  printf(\"%d x %d (%d) %.3f seconds\\n\", ni, nj, nstep, elapsed);\n",
    "\n",
    "  free( temp1_ref );\n",
    "  free( temp2_ref );\n",
    "  cudaFree( temp1 );\n",
    "  cudaFree( temp2 );\n",
    "\n",
    "  return 0;\n",
    "}"
   ]
  },
  {
   "cell_type": "code",
   "execution_count": null,
   "metadata": {},
   "outputs": [],
   "source": [
    "!nvcc heat-cuda.cu -o heat-cuda"
   ]
  },
  {
   "cell_type": "code",
   "execution_count": null,
   "metadata": {},
   "outputs": [],
   "source": [
    "!./heat-cuda"
   ]
  },
  {
   "cell_type": "markdown",
   "metadata": {},
   "source": [
    "Finally we once again compare the performances obtained by OpenACC, OpenMP and CUDA and the serial version. The following table high lights the performance numbers."
   ]
  },
  {
   "cell_type": "markdown",
   "metadata": {},
   "source": [
    "| Program Version      | Execution Time (sec.)  | Speedup      |\n",
    "| :---                 |    :----:              |        ---:  |\n",
    "| Serial               | 9.76                   | 1X           |\n",
    "| OpenMP T=16          | 0.75                   | 13X       |  \n",
    "| OpenACC              | 0.64                   | 15X       | \n",
    "| CUDA                 | 1.43                   | 7X        | \n"
   ]
  },
  {
   "cell_type": "markdown",
   "metadata": {},
   "source": [
    "## Credit"
   ]
  },
  {
   "cell_type": "markdown",
   "metadata": {},
   "source": [
    "> Credit for the original Heat Conduction CPU source code in this task is given to the article [An OpenACC Example Code for a C-based heat conduction code](http://docplayer.net/30411068-An-openacc-example-code-for-a-c-based-heat-conduction-code.html) from the University of Houston."
   ]
  },
  {
   "cell_type": "markdown",
   "metadata": {},
   "source": [
    "## Next"
   ]
  },
  {
   "cell_type": "markdown",
   "metadata": {},
   "source": [
    "Please continue to the next notebook: Please continue to the next notebook: [Seismic Modelling - 1D Wave Equation](3-wave.ipynb)."
   ]
  }
 ],
 "metadata": {
  "kernelspec": {
   "display_name": "Python 3 (ipykernel)",
   "language": "python",
   "name": "python3"
  },
  "language_info": {
   "codemirror_mode": {
    "name": "ipython",
    "version": 3
   },
   "file_extension": ".py",
   "mimetype": "text/x-python",
   "name": "python",
   "nbconvert_exporter": "python",
   "pygments_lexer": "ipython3",
   "version": "3.8.8"
  }
 },
 "nbformat": 4,
 "nbformat_minor": 4
}
