{
 "cells": [
  {
   "cell_type": "markdown",
   "id": "1fab6535",
   "metadata": {},
   "source": [
    "# Hands-on: High Performance Computing applied to Industry"
   ]
  },
  {
   "cell_type": "markdown",
   "id": "e68a5b71",
   "metadata": {},
   "source": [
    "## ☆ Final Exercise: Accelerate and Optimize an N-Body Simulator"
   ]
  },
  {
   "cell_type": "markdown",
   "id": "6ba69d25",
   "metadata": {},
   "source": [
    "An [n-body](https://en.wikipedia.org/wiki/N-body_problem) simulator predicts the individual motions of a group of objects interacting with each other gravitationally. [mini-nbody-sequential.cu] contains a simple, though working, n-body simulator for bodies moving through 3 dimensional space.\n",
    "\n",
    "In its current CPU-only form, this application takes about 5 seconds to run on 4096 particles, and **20 minutes** to run on 65536 particles. Your task is to accelerate the program, retaining the correctness of the simulation."
   ]
  },
  {
   "cell_type": "markdown",
   "id": "dae99c47",
   "metadata": {},
   "source": [
    "### Considerations to Guide Your Work\n",
    "\n",
    "Here are some things to consider before beginning your work:\n",
    "\n",
    "- Especially for your first refactors, the logic of the application, the `bodyForce` function in particular, can and should remain largely unchanged: focus on accelerating it as easily as possible.\n",
    "- The code base contains a for-loop inside `main` for integrating the interbody forces calculated by `bodyForce` into the positions of the bodies in the system. This integration both needs to occur after `bodyForce` runs, and, needs to complete before the next call to `bodyForce`. Keep this in mind when choosing how and where to parallelize.\n",
    "- You are not required to add error handling to your code, but you might find it helpful, as you are responsible for your code working correctly.\n",
    "\n",
    "**Have Fun!**"
   ]
  },
  {
   "cell_type": "markdown",
   "id": "7dc2596b",
   "metadata": {},
   "source": [
    "### A Single CPU Implementation "
   ]
  },
  {
   "cell_type": "code",
   "execution_count": 1,
   "id": "049ab4d9",
   "metadata": {},
   "outputs": [
    {
     "name": "stdout",
     "output_type": "stream",
     "text": [
      "Writing mini-nbody-sequential.cu\n"
     ]
    }
   ],
   "source": [
    "%%writefile mini-nbody-sequential.cu\n",
    "#include <math.h>\n",
    "#include <stdio.h>\n",
    "#include <stdlib.h>\n",
    "#include <omp.h>\n",
    "\n",
    "#define BLOCK_SIZE 256\n",
    "#define SOFTENING 1e-9f\n",
    "\n",
    "typedef struct { float x, y, z, vx, vy, vz; } Body;\n",
    "\n",
    "void randomizeBodies(float *data, int n) \n",
    "{\n",
    "  for (int i = 0; i < n; i++)\n",
    "    data[i] = 2.0f * (rand() / (float)RAND_MAX) - 1.0f;\n",
    "\n",
    "}\n",
    "\n",
    "void bodyForce(Body *p, float dt, int n) \n",
    "{\n",
    "  float Fx;\n",
    "    \n",
    "  for (int i = 0; i < n; ++i) {\n",
    "    Fx = 0.0f; float Fy = 0.0f; float Fz = 0.0f;\n",
    "\n",
    "    for (int j = 0; j < n; j++) {\n",
    "      float dx = p[j].x - p[i].x;\n",
    "      float dy = p[j].y - p[i].y;\n",
    "      float dz = p[j].z - p[i].z;\n",
    "      float distSqr = dx*dx + dy*dy + dz*dz + SOFTENING;\n",
    "      float invDist = rsqrtf(distSqr);\n",
    "      float invDist3 = invDist * invDist * invDist;\n",
    "\n",
    "      Fx += dx * invDist3; Fy += dy * invDist3; Fz += dz * invDist3;\n",
    "    }\n",
    "    p[i].vx += dt*Fx; p[i].vy += dt*Fy; p[i].vz += dt*Fz;\n",
    "  }\n",
    "    \n",
    "}\n",
    "\n",
    "int main(const int argc, const char** argv) \n",
    "{\n",
    "  int nBodies = 30000; //size of the problem (bodies)\n",
    "    \n",
    "  if (argc > 1) \n",
    "    nBodies = atoi(argv[1]);\n",
    "\n",
    "  const float dt   = 0.01f; // time step\n",
    "  const int nIters = 10;    // simulation iterations\n",
    "  int bytes  = nBodies * sizeof(Body);\n",
    "  float *buf = (float*) malloc (bytes);\n",
    "  Body *p    = (Body*) buf;\n",
    "\n",
    "  randomizeBodies(buf, 6*nBodies); // Init pos/vel data\n",
    "\n",
    "  const double t1 = omp_get_wtime();\n",
    "\n",
    "  for (int iter = 1; iter <= nIters; iter++) \n",
    "  {\n",
    "    bodyForce(p, dt, nBodies); // compute interbody forces\n",
    "  \n",
    "    for (int i = 0 ; i < nBodies; i++) { // integrate position\n",
    "      p[i].x += p[i].vx*dt;\n",
    "      p[i].y += p[i].vy*dt;\n",
    "      p[i].z += p[i].vz*dt;\n",
    "    }\n",
    "\n",
    "  }\n",
    "    \n",
    "  const double t2 = omp_get_wtime();\n",
    "\n",
    "  double avgTime = (t2-t1) / (double)(nIters-1); \n",
    "  \n",
    "  float billionsOfOpsPerSecond = 1e-9 * nBodies * nBodies / avgTime;\n",
    "  printf(\"\\nSize (Bodies) = %d\\n\", nBodies);\n",
    "  printf(\"%0.3f Billion Interactions/second\\n\", billionsOfOpsPerSecond);\n",
    "  printf(\"%0.3f second\\n\", avgTime);\n",
    "  \n",
    "  free(buf);\n",
    "\n",
    "  return 0;\n",
    "}"
   ]
  },
  {
   "cell_type": "code",
   "execution_count": 2,
   "id": "a84de40e",
   "metadata": {},
   "outputs": [],
   "source": [
    "!nvcc mini-nbody-sequential.cu -o mini-nbody-sequential -Xcompiler -fopenmp -O3"
   ]
  },
  {
   "cell_type": "code",
   "execution_count": 3,
   "id": "c1814702",
   "metadata": {},
   "outputs": [
    {
     "name": "stdout",
     "output_type": "stream",
     "text": [
      "\n",
      "Size (Bodies) = 30000\n",
      "0.160 Billion Interactions/second\n",
      "5.614 second\n"
     ]
    }
   ],
   "source": [
    "!./mini-nbody-sequential"
   ]
  },
  {
   "cell_type": "markdown",
   "id": "35ae7790-7436-4fe9-8985-4e6a390294cd",
   "metadata": {},
   "source": [
    "## Clear the Temporary Files"
   ]
  },
  {
   "cell_type": "markdown",
   "id": "c5257fb6-f7b2-4ec6-bb72-2454debce4eb",
   "metadata": {},
   "source": [
    "Before moving on, please execute the following cell to clear up the directory. This is required to move on to the next notebook."
   ]
  },
  {
   "cell_type": "code",
   "execution_count": 4,
   "id": "dee47711-203e-4b9b-b73d-f5b5d209a4f0",
   "metadata": {},
   "outputs": [],
   "source": [
    "!rm -rf r00* gmon.out heat* mm* wave* mini-* report1* test_* vector-* ../Documents ../intel"
   ]
  }
 ],
 "metadata": {
  "kernelspec": {
   "display_name": "Python 3 (ipykernel)",
   "language": "python",
   "name": "python3"
  },
  "language_info": {
   "codemirror_mode": {
    "name": "ipython",
    "version": 3
   },
   "file_extension": ".py",
   "mimetype": "text/x-python",
   "name": "python",
   "nbconvert_exporter": "python",
   "pygments_lexer": "ipython3",
   "version": "3.9.16"
  }
 },
 "nbformat": 4,
 "nbformat_minor": 5
}
