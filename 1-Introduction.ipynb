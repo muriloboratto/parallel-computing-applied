{
 "cells": [
  {
   "cell_type": "markdown",
   "id": "fRdbEJCUyJLj",
   "metadata": {
    "id": "fRdbEJCUyJLj"
   },
   "source": [
    "# Hands-on: High Performance Computing applied to Industry"
   ]
  },
  {
   "cell_type": "markdown",
   "id": "n12FbzH_yJLl",
   "metadata": {
    "id": "n12FbzH_yJLl"
   },
   "source": [
    "Welcome to _Hands-on_. In this short course you will learn several techniques for scaling computation on industrial applications, with an emphasis on [OPENMP, OPENACC, CUDA] which allows for elegant parallelization applications codes and has been proven to scale very well on supercomputational systems."
   ]
  },
  {
   "cell_type": "markdown",
   "id": "FUm5HQBwyJLm",
   "metadata": {
    "id": "FUm5HQBwyJLm"
   },
   "source": [
    "## The Coding Environment"
   ]
  },
  {
   "cell_type": "markdown",
   "id": "m13auaYIyJLm",
   "metadata": {
    "id": "m13auaYIyJLm"
   },
   "source": [
    "For your work today, you have access to several computational resources in the cloud. Run the following cell to see the features available to you today."
   ]
  },
  {
   "cell_type": "code",
   "execution_count": null,
   "id": "yqipQLSmyJLn",
   "metadata": {
    "colab": {
     "base_uri": "https://localhost:8080/"
    },
    "executionInfo": {
     "elapsed": 328,
     "status": "ok",
     "timestamp": 1666529339545,
     "user": {
      "displayName": "Murilo Boratto",
      "userId": "13998345321799991370"
     },
     "user_tz": 180
    },
    "id": "yqipQLSmyJLn",
    "outputId": "24b09446-c372-475f-e4ce-bb2e292517e4"
   },
   "outputs": [
    {
     "name": "stdout",
     "output_type": "stream",
     "text": [
      "\t\u001b[4mGPU0\tCPU Affinity\tNUMA Affinity\u001b[0m\n",
      "GPU0\t X \t0-11\t\tN/A\n",
      "\n",
      "Legend:\n",
      "\n",
      "  X    = Self\n",
      "  SYS  = Connection traversing PCIe as well as the SMP interconnect between NUMA nodes (e.g., QPI/UPI)\n",
      "  NODE = Connection traversing PCIe as well as the interconnect between PCIe Host Bridges within a NUMA node\n",
      "  PHB  = Connection traversing PCIe as well as a PCIe Host Bridge (typically the CPU)\n",
      "  PXB  = Connection traversing multiple PCIe bridges (without traversing the PCIe Host Bridge)\n",
      "  PIX  = Connection traversing at most a single PCIe bridge\n",
      "  NV#  = Connection traversing a bonded set of # NVLinks\n"
     ]
    }
   ],
   "source": [
    "!nvidia-smi topo -m "
   ]
  },
  {
   "cell_type": "markdown",
   "id": "Ws-Hn9CgyJLp",
   "metadata": {
    "id": "Ws-Hn9CgyJLp"
   },
   "source": [
    "While your work today will be on a single node, all the techniques you learn today, can be used to run your applications across clusters of multi-GPU nodes."
   ]
  },
  {
   "cell_type": "markdown",
   "id": "Jq8Zc_8byJLp",
   "metadata": {
    "id": "Jq8Zc_8byJLp"
   },
   "source": [
    "## Table of Contents"
   ]
  },
  {
   "cell_type": "markdown",
   "id": "vn9m6S-jyJLq",
   "metadata": {
    "id": "vn9m6S-jyJLq"
   },
   "source": [
    "During the workshop today you will work through each of the following notebooks with your instructor:"
   ]
  },
  {
   "cell_type": "markdown",
   "id": "GN2WM2cXyJLq",
   "metadata": {
    "id": "GN2WM2cXyJLq"
   },
   "source": [
    "- [Accelerate a Thermal Conductivity Application](heat/heat.ipynb): You will begin by familiarizing yourself with a single GPU implementation of the Accelerate a Thermal Conductivity Application, which we will use to introduce  multi-resources programming paradigms.\n",
    "- [Seismic Modelling - 1D Wave Equation](3-SIINTEC2022-wave.ipynb): You apply your day's learnings by refactoring a single GPU 1D wave equation solver to run on supercomputing environment.\n",
    "- [Final Exercise](4-SIINTEC2022-FinalExercise.ipynb): In this exercise you apply your concepts."
   ]
  },
  {
   "cell_type": "markdown",
   "id": "bzhJyfWIyJLr",
   "metadata": {
    "id": "bzhJyfWIyJLr"
   },
   "source": [
    "## Matrix Multiple Benchmark"
   ]
  },
  {
   "cell_type": "markdown",
   "id": "XY0PHc4eyJLr",
   "metadata": {
    "id": "XY0PHc4eyJLr"
   },
   "source": [
    "### A Single CPU Implementation "
   ]
  },
  {
   "cell_type": "code",
   "execution_count": null,
   "id": "DcJxHVSzyJLr",
   "metadata": {
    "colab": {
     "base_uri": "https://localhost:8080/"
    },
    "executionInfo": {
     "elapsed": 271,
     "status": "ok",
     "timestamp": 1666529352426,
     "user": {
      "displayName": "Murilo Boratto",
      "userId": "13998345321799991370"
     },
     "user_tz": 180
    },
    "id": "DcJxHVSzyJLr",
    "outputId": "745549f1-3ecd-4f11-bf6c-4271e6e598b6"
   },
   "outputs": [
    {
     "name": "stdout",
     "output_type": "stream",
     "text": [
      "Writing mm.c\n"
     ]
    }
   ],
   "source": [
    "%%writefile mm.c\n",
    "\n",
    "#include <stdio.h>\n",
    "#include <stdlib.h>\n",
    "\n",
    "void fill_matrix(double *A, int n){\n",
    "\n",
    "  int i,j;\n",
    " \n",
    "  for(i = 0; i < n; i++)\n",
    "    for(j = 0; j < n; j++)\n",
    "      A[i*n+j] = rand()%(10-1)*1;\n",
    "  \n",
    "}\n",
    "\n",
    "void print_matrix(double *A, int n){\n",
    "\n",
    "  int i,j;\n",
    "\n",
    "  for (i=0; i < n; i++){\n",
    "    for (j=0; j < n; j++)\n",
    "      printf(\"%1.2f\\t\", A[i*n+j]);\n",
    "    printf(\"\\n\");\n",
    "  }\n",
    "\n",
    "  printf(\"\\n\");\n",
    "\n",
    "}\n",
    "\n",
    "int main(int argc, char **argv){\n",
    "\n",
    " int n = atoi(argv[1]);  \n",
    " int i, j, k;\n",
    "\n",
    " double  *A = (double *) malloc (sizeof(double) * n * n);\n",
    " double  *B = (double *) malloc (sizeof(double) * n * n);\n",
    " double  *C = (double *) malloc (sizeof(double) * n * n);\n",
    "\n",
    " fill_matrix(A,n);\n",
    " fill_matrix(B,n);\n",
    "\n",
    " for (i = 0; i < n; i++) \n",
    "  for (j = 0; j < n; j++)\n",
    "    for (k = 0; k < n; k++) \n",
    "      C[i*n+j]+=A[i*n+k]*B[k*n+j];\n",
    "\n",
    " print_matrix(A,n);\n",
    " print_matrix(B,n);\n",
    " print_matrix(C,n);\n",
    "\n",
    " return 0;\n",
    "\n",
    "}"
   ]
  },
  {
   "cell_type": "code",
   "execution_count": null,
   "id": "G1nTnPVxyJLt",
   "metadata": {
    "id": "G1nTnPVxyJLt"
   },
   "outputs": [],
   "source": [
    "!gcc mm.c -o mm -O3"
   ]
  },
  {
   "cell_type": "code",
   "execution_count": null,
   "id": "OV8zXBHkyJLt",
   "metadata": {
    "colab": {
     "base_uri": "https://localhost:8080/"
    },
    "executionInfo": {
     "elapsed": 281,
     "status": "ok",
     "timestamp": 1666529362942,
     "user": {
      "displayName": "Murilo Boratto",
      "userId": "13998345321799991370"
     },
     "user_tz": 180
    },
    "id": "OV8zXBHkyJLt",
    "outputId": "ee343f9f-65cc-4563-ce60-5bbbd7fa389b"
   },
   "outputs": [
    {
     "name": "stdout",
     "output_type": "stream",
     "text": [
      "1.00\t7.00\t0.00\t7.00\t5.00\t7.00\t1.00\t3.00\t\n",
      "6.00\t1.00\t5.00\t4.00\t5.00\t7.00\t5.00\t4.00\t\n",
      "6.00\t0.00\t7.00\t1.00\t8.00\t8.00\t6.00\t6.00\t\n",
      "8.00\t8.00\t8.00\t4.00\t1.00\t1.00\t5.00\t0.00\t\n",
      "0.00\t3.00\t5.00\t3.00\t1.00\t7.00\t4.00\t7.00\t\n",
      "6.00\t0.00\t0.00\t2.00\t5.00\t4.00\t5.00\t2.00\t\n",
      "2.00\t3.00\t2.00\t1.00\t1.00\t8.00\t8.00\t0.00\t\n",
      "5.00\t5.00\t4.00\t4.00\t6.00\t0.00\t5.00\t6.00\t\n",
      "\n",
      "2.00\t8.00\t7.00\t3.00\t4.00\t2.00\t0.00\t0.00\t\n",
      "0.00\t0.00\t2.00\t6.00\t2.00\t5.00\t6.00\t5.00\t\n",
      "7.00\t6.00\t6.00\t8.00\t5.00\t3.00\t6.00\t2.00\t\n",
      "8.00\t1.00\t6.00\t6.00\t8.00\t0.00\t1.00\t1.00\t\n",
      "7.00\t0.00\t3.00\t2.00\t0.00\t1.00\t2.00\t1.00\t\n",
      "8.00\t3.00\t5.00\t2.00\t6.00\t0.00\t7.00\t2.00\t\n",
      "7.00\t2.00\t8.00\t1.00\t6.00\t5.00\t1.00\t5.00\t\n",
      "4.00\t6.00\t0.00\t4.00\t6.00\t2.00\t3.00\t2.00\t\n",
      "\n",
      "168.00\t56.00\t121.00\t124.00\t140.00\t53.00\t118.00\t72.00\t\n",
      "221.00\t137.00\t188.00\t133.00\t179.00\t70.00\t116.00\t71.00\t\n",
      "255.00\t163.00\t202.00\t142.00\t187.00\t83.00\t139.00\t81.00\t\n",
      "154.00\t129.00\t192.00\t169.00\t156.00\t106.00\t114.00\t88.00\t\n",
      "178.00\t104.00\t124.00\t124.00\t163.00\t65.00\t127.00\t77.00\t\n",
      "138.00\t84.00\t129.00\t61.00\t106.00\t46.00\t51.00\t44.00\t\n",
      "153.00\t69.00\t145.00\t72.00\t128.00\t66.00\t97.00\t77.00\t\n",
      "171.00\t114.00\t151.00\t142.00\t148.00\t90.00\t93.00\t80.00\t\n",
      "\n"
     ]
    }
   ],
   "source": [
    "!./mm 8"
   ]
  },
  {
   "cell_type": "markdown",
   "id": "ZwqgTtYiyJLu",
   "metadata": {
    "id": "ZwqgTtYiyJLu"
   },
   "source": [
    "#### How to measure execution time in C code?"
   ]
  },
  {
   "cell_type": "code",
   "execution_count": null,
   "id": "13ApcilkyJLu",
   "metadata": {
    "colab": {
     "base_uri": "https://localhost:8080/"
    },
    "executionInfo": {
     "elapsed": 285,
     "status": "ok",
     "timestamp": 1666529369713,
     "user": {
      "displayName": "Murilo Boratto",
      "userId": "13998345321799991370"
     },
     "user_tz": 180
    },
    "id": "13ApcilkyJLu",
    "outputId": "da61144b-ea86-4a6c-a258-50ca9d0079f5"
   },
   "outputs": [
    {
     "name": "stdout",
     "output_type": "stream",
     "text": [
      "Writing mm-time.c\n"
     ]
    }
   ],
   "source": [
    "%%writefile mm-time.c\n",
    "\n",
    "#include <stdio.h>\n",
    "#include <stdlib.h>\n",
    "#include <sys/time.h>\n",
    "\n",
    "void fill_matrix(double *A, int n){\n",
    "\n",
    "  int i,j;\n",
    " \n",
    "  for(i = 0; i < n; i++)\n",
    "    for(j = 0; j < n; j++)\n",
    "      A[i*n+j] = rand()%(10-1)*1;\n",
    "  \n",
    "}\n",
    "\n",
    "void print_matrix(double *A, int n){\n",
    "\n",
    "  int i,j;\n",
    "\n",
    "  for (i=0; i < n; i++){\n",
    "    for (j=0; j < n; j++)\n",
    "      printf(\"%1.2f\\t\", A[i*n+j]);\n",
    "    printf(\"\\n\");\n",
    "  }\n",
    "\n",
    "  printf(\"\\n\");\n",
    "\n",
    "}\n",
    "\n",
    "int main(int argc, char **argv)\n",
    "{\n",
    "  int n = atoi(argv[1]);  \n",
    "  int i, j, k;\n",
    "\n",
    "  double  *A = (double *) malloc (sizeof(double) * n * n);\n",
    "  double  *B = (double *) malloc (sizeof(double) * n * n);\n",
    "  double  *C = (double *) malloc (sizeof(double) * n * n);\n",
    "\n",
    "  fill_matrix(A,n);\n",
    "  fill_matrix(B,n);\n",
    "\n",
    "  // Start measuring time\n",
    "  struct timeval begin, end;\n",
    "  gettimeofday(&begin, 0);\n",
    "    \n",
    "  for (i = 0; i < n; i++) \n",
    "   for (j = 0; j < n; j++)\n",
    "     for (k = 0; k < n; k++) \n",
    "       C[i*n+j]+=A[i*n+k]*B[k*n+j];\n",
    "    \n",
    "  gettimeofday(&end, 0);\n",
    "  long seconds = end.tv_sec - begin.tv_sec;\n",
    "  long microseconds = end.tv_usec - begin.tv_usec;\n",
    "  double elapsed = seconds + microseconds*1e-6;\n",
    "    \n",
    "   printf(\"%d x %d  %.3f seconds\\n\", n, n, elapsed);  \n",
    "\n",
    "  //print_matrix(A,n);\n",
    "  //print_matrix(B,n);\n",
    "  //print_matrix(C,n);\n",
    "\n",
    "  return 0;\n",
    "}"
   ]
  },
  {
   "cell_type": "code",
   "execution_count": null,
   "id": "-z4gsy6gyJLw",
   "metadata": {
    "id": "-z4gsy6gyJLw"
   },
   "outputs": [],
   "source": [
    "!gcc mm-time.c -o mm-time -O3"
   ]
  },
  {
   "cell_type": "code",
   "execution_count": null,
   "id": "ESxOTYfDyJLw",
   "metadata": {
    "colab": {
     "base_uri": "https://localhost:8080/"
    },
    "executionInfo": {
     "elapsed": 3065,
     "status": "ok",
     "timestamp": 1666529379824,
     "user": {
      "displayName": "Murilo Boratto",
      "userId": "13998345321799991370"
     },
     "user_tz": 180
    },
    "id": "ESxOTYfDyJLw",
    "outputId": "193a68ee-d2fd-4045-b2e8-9f8b9d94cd78"
   },
   "outputs": [
    {
     "name": "stdout",
     "output_type": "stream",
     "text": [
      "1000 x 1000  2.709 seconds\n"
     ]
    }
   ],
   "source": [
    "!./mm-time 1000"
   ]
  },
  {
   "cell_type": "markdown",
   "id": "mJNXHU3HyJLx",
   "metadata": {
    "id": "mJNXHU3HyJLx"
   },
   "source": [
    "#### How to profilling this code?"
   ]
  },
  {
   "cell_type": "code",
   "execution_count": null,
   "id": "lCPt-qYnyJLx",
   "metadata": {
    "id": "lCPt-qYnyJLx"
   },
   "outputs": [],
   "source": [
    "!gcc mm-time.c -o mm-profilling -pg"
   ]
  },
  {
   "cell_type": "code",
   "execution_count": null,
   "id": "hbh4n43byJLx",
   "metadata": {
    "colab": {
     "base_uri": "https://localhost:8080/"
    },
    "executionInfo": {
     "elapsed": 8661,
     "status": "ok",
     "timestamp": 1666529396407,
     "user": {
      "displayName": "Murilo Boratto",
      "userId": "13998345321799991370"
     },
     "user_tz": 180
    },
    "id": "hbh4n43byJLx",
    "outputId": "e5a5eef3-81e4-4763-fdc7-05ecd35342e0"
   },
   "outputs": [
    {
     "name": "stdout",
     "output_type": "stream",
     "text": [
      "1000 x 1000  8.204 seconds\n"
     ]
    }
   ],
   "source": [
    "!./mm-profilling 1000"
   ]
  },
  {
   "cell_type": "code",
   "execution_count": null,
   "id": "lKl9USwFyJLy",
   "metadata": {
    "colab": {
     "base_uri": "https://localhost:8080/"
    },
    "executionInfo": {
     "elapsed": 411,
     "status": "ok",
     "timestamp": 1666529399027,
     "user": {
      "displayName": "Murilo Boratto",
      "userId": "13998345321799991370"
     },
     "user_tz": 180
    },
    "id": "lKl9USwFyJLy",
    "outputId": "8ccecf42-f2c7-48e7-89f6-e2cc24c44000"
   },
   "outputs": [
    {
     "name": "stdout",
     "output_type": "stream",
     "text": [
      "Flat profile:\n",
      "\n",
      "Each sample counts as 0.01 seconds.\n",
      "  %   cumulative   self              self     total           \n",
      " time   seconds   seconds    calls  Ts/call  Ts/call  name    \n",
      "100.28      8.21     8.21                             main\n",
      "  0.00      8.21     0.00        2     0.00     0.00  fill_matrix\n",
      "\f",
      "\n",
      "\t\t\tCall graph\n",
      "\n",
      "\n",
      "granularity: each sample hit covers 2 byte(s) for 0.12% of 8.21 seconds\n",
      "\n",
      "index % time    self  children    called     name\n",
      "                                                 <spontaneous>\n",
      "[1]    100.0    8.21    0.00                 main [1]\n",
      "                0.00    0.00       2/2           fill_matrix [2]\n",
      "-----------------------------------------------\n",
      "                0.00    0.00       2/2           main [1]\n",
      "[2]      0.0    0.00    0.00       2         fill_matrix [2]\n",
      "-----------------------------------------------\n",
      "\f",
      "\n",
      "Index by function name\n",
      "\n",
      "   [2] fill_matrix             [1] main\n"
     ]
    }
   ],
   "source": [
    "!gprof -b mm-profilling gmon.out"
   ]
  },
  {
   "cell_type": "markdown",
   "id": "Fi4QeOD-yJLy",
   "metadata": {
    "id": "Fi4QeOD-yJLy"
   },
   "source": [
    "### MPI"
   ]
  },
  {
   "cell_type": "markdown",
   "id": "KJ5ZDcHiyJLy",
   "metadata": {
    "id": "KJ5ZDcHiyJLy"
   },
   "source": [
    "#### Installation"
   ]
  },
  {
   "cell_type": "code",
   "execution_count": null,
   "id": "zAN3yp5xyJLz",
   "metadata": {
    "id": "zAN3yp5xyJLz"
   },
   "outputs": [],
   "source": [
    "!sudo apt-get install libopenmpi-dev"
   ]
  },
  {
   "cell_type": "code",
   "execution_count": null,
   "id": "rJ_xFPh9yJLz",
   "metadata": {
    "colab": {
     "base_uri": "https://localhost:8080/"
    },
    "executionInfo": {
     "elapsed": 331,
     "status": "ok",
     "timestamp": 1666529405270,
     "user": {
      "displayName": "Murilo Boratto",
      "userId": "13998345321799991370"
     },
     "user_tz": 180
    },
    "id": "rJ_xFPh9yJLz",
    "outputId": "ebd8c67f-f852-4002-d2bc-ef02a8edba7f"
   },
   "outputs": [
    {
     "name": "stdout",
     "output_type": "stream",
     "text": [
      "Writing mm-mpi.c\n"
     ]
    }
   ],
   "source": [
    "%%writefile mm-mpi.c\n",
    "\n",
    "#include <stdio.h>\n",
    "#include <stdlib.h>\n",
    "#include <mpi.h>\n",
    "#include <sys/time.h>\n",
    "\n",
    "double *A, *B, *C;\n",
    "\n",
    "void fill_matrix(double *A, int n)\n",
    "{\n",
    "  for(int i = 0; i < n; i++)\n",
    "    for(int j = 0; j < n; j++)\n",
    "       A[i * n + j] = rand()%(10-1)*1;;\n",
    "}\n",
    "\n",
    "void print_matrix(double *A, int n)\n",
    "{\n",
    "  for(int i = 0; i < n; i++) {\n",
    "    for(int j = 0; j < n; j++)\n",
    "       printf(\"%1.2f\\t\", A[i * n + j]); \n",
    "    printf(\"\\n\");  \n",
    "  }\n",
    " \n",
    "  printf(\"\\n\");\n",
    "\n",
    "}\n",
    "\n",
    "int main(int argc, char **argv)\n",
    "{\n",
    "  int n = atoi(argv[1]);\n",
    "  int myrank, np, from, to;\n",
    "  int tag = 1000;\n",
    "  \n",
    "  A = (double *) malloc (sizeof(double) * n * n);\n",
    "  B = (double *) malloc (sizeof(double) * n * n);\n",
    "  C = (double *) malloc (sizeof(double) * n * n);\n",
    "\n",
    "  // Start measuring time\n",
    "  struct timeval begin, end;\n",
    "  gettimeofday(&begin, 0);\n",
    "  \n",
    "  MPI_Init (&argc, &argv);\n",
    "  MPI_Comm_rank(MPI_COMM_WORLD, &myrank);\n",
    "  MPI_Comm_size(MPI_COMM_WORLD, &np); \n",
    "  MPI_Status status;\n",
    "    \n",
    "  from = (myrank * n) / np;\n",
    "  to   = ((myrank + 1) * n) / np;\n",
    "\n",
    "  if (myrank == 0) {\n",
    "    fill_matrix(A, n);\n",
    "    fill_matrix(B, n);\n",
    "  }\n",
    "\n",
    "  MPI_Bcast(B,  n * n, MPI_DOUBLE, 0, MPI_COMM_WORLD);\n",
    "  MPI_Scatter(A, n * n / np, MPI_DOUBLE, A + (from * n), n * n / np, MPI_DOUBLE, 0, MPI_COMM_WORLD);\n",
    "  \n",
    "  for(int i = from; i < to; i++) \n",
    "    for(int j = 0; j < n; j++) \n",
    "        for(int k = 0; k < n; k++)\n",
    "            C[i * n + j] += A[i * n + k] * B[k * n + j];\n",
    "    \n",
    "  MPI_Gather (C + (from * n), (n * n) / np, MPI_DOUBLE, C, (n * n) / np, MPI_DOUBLE, 0, MPI_COMM_WORLD);\n",
    "  \n",
    "  //if (myrank == 0) {\n",
    "    //print_matrix(A, n);\n",
    "    //print_matrix(B, n);\n",
    "    //print_matrix(C, n);\n",
    "  //}\n",
    "\n",
    "  gettimeofday(&end, 0);\n",
    "  long seconds = end.tv_sec - begin.tv_sec;\n",
    "  long microseconds = end.tv_usec - begin.tv_usec;\n",
    "  double elapsed = seconds + microseconds*1e-6;\n",
    "    \n",
    "  if (myrank == 0) \n",
    "    printf(\"%d x %d  %.3f seconds\\n\", n, n, elapsed);  \n",
    "\n",
    "  MPI_Finalize();\n",
    "\n",
    "  return 0;\n",
    "}"
   ]
  },
  {
   "cell_type": "code",
   "execution_count": null,
   "id": "vP55GNTkyJL0",
   "metadata": {
    "id": "vP55GNTkyJL0"
   },
   "outputs": [],
   "source": [
    "!mpicc mm-mpi.c -o mm-mpi"
   ]
  },
  {
   "cell_type": "code",
   "execution_count": null,
   "id": "UVIYFyCAyJL0",
   "metadata": {
    "colab": {
     "base_uri": "https://localhost:8080/"
    },
    "executionInfo": {
     "elapsed": 2554,
     "status": "ok",
     "timestamp": 1666529432253,
     "user": {
      "displayName": "Murilo Boratto",
      "userId": "13998345321799991370"
     },
     "user_tz": 180
    },
    "id": "UVIYFyCAyJL0",
    "outputId": "9ebe8878-4604-4dcb-87f4-742a84f003f3"
   },
   "outputs": [
    {
     "name": "stdout",
     "output_type": "stream",
     "text": [
      "1000 x 1000  2.340 seconds\n"
     ]
    }
   ],
   "source": [
    "!mpirun --allow-run-as-root -np 10 ./mm-mpi 1000"
   ]
  },
  {
   "cell_type": "markdown",
   "id": "8XMxBMeLyJL1",
   "metadata": {
    "id": "8XMxBMeLyJL1"
   },
   "source": [
    "### OpenMP"
   ]
  },
  {
   "cell_type": "markdown",
   "id": "WekVEbw2yJL1",
   "metadata": {
    "id": "WekVEbw2yJL1"
   },
   "source": [
    "#### Instalation "
   ]
  },
  {
   "cell_type": "code",
   "execution_count": null,
   "id": "WGs-4luhyJL1",
   "metadata": {
    "id": "WGs-4luhyJL1"
   },
   "outputs": [],
   "source": [
    "!sudo apt-get install libomp-dev"
   ]
  },
  {
   "cell_type": "code",
   "execution_count": null,
   "id": "C_m8PlpyyJL1",
   "metadata": {
    "colab": {
     "base_uri": "https://localhost:8080/"
    },
    "executionInfo": {
     "elapsed": 246,
     "status": "ok",
     "timestamp": 1666529441953,
     "user": {
      "displayName": "Murilo Boratto",
      "userId": "13998345321799991370"
     },
     "user_tz": 180
    },
    "id": "C_m8PlpyyJL1",
    "outputId": "4cea6da7-f313-4504-85ef-04dfb23cca36"
   },
   "outputs": [
    {
     "name": "stdout",
     "output_type": "stream",
     "text": [
      "Writing mm-omp.c\n"
     ]
    }
   ],
   "source": [
    "%%writefile mm-omp.c\n",
    "\n",
    "#include <stdio.h>\n",
    "#include <stdlib.h>\n",
    "#include <omp.h>\n",
    "#include <sys/time.h>\n",
    "\n",
    "void fill_matrix(double *A, int n)\n",
    "{\n",
    "  for(int i = 0; i < n; i++)\n",
    "    for(int j = 0; j < n; j++)\n",
    "      A[i*n+j] = rand()%(10-1)*1;\n",
    "}\n",
    "\n",
    "void print_matrix(double *A, int n)\n",
    "{\n",
    "  for(int i = 0; i < n; i++){\n",
    "    for(int j = 0; j < n; j++)\n",
    "      printf(\"%1.2f\\t\", A[i*n+j]);\n",
    "   printf(\"\\n\");\n",
    "  }\n",
    "\n",
    "  printf(\"\\n\");\n",
    "}\n",
    "\n",
    "int main(int argc, char **argv)\n",
    "{\n",
    "  int n = atoi(argv[1]);  \n",
    "  int i, j, k;\n",
    "\n",
    "  double  *A = (double *) malloc(sizeof(double) * n * n);\n",
    "  double  *B = (double *) malloc(sizeof(double) * n * n);\n",
    "  double  *C = (double *) malloc(sizeof(double) * n * n);\n",
    "\n",
    "  fill_matrix(A,n);\n",
    "  fill_matrix(B,n);\n",
    "\n",
    "  //Measuring time\n",
    "  struct timeval begin, end;\n",
    "  gettimeofday(&begin, 0);\n",
    "     \n",
    "  #pragma omp parallel for private(i,j,k)\n",
    "   for(i = 0; i < n; i++) \n",
    "    for(j = 0; j < n; j++)\n",
    "      for(k = 0; k < n; k++) \n",
    "        C[i*n+j] += A[i*n+k] * B[k*n+j];\n",
    "    \n",
    "   gettimeofday(&end, 0);\n",
    "   long seconds = end.tv_sec - begin.tv_sec;\n",
    "   long microseconds = end.tv_usec - begin.tv_usec;\n",
    "   double elapsed = seconds + microseconds*1e-6;\n",
    "    \n",
    "   printf(\"%d x %d  %.3f seconds\\n\", n, n, elapsed);    \n",
    "    \n",
    "   //print_matrix(A,n);\n",
    "   //print_matrix(B,n);\n",
    "   //print_matrix(C,n);\n",
    "\n",
    "   return 0;\n",
    "}\n"
   ]
  },
  {
   "cell_type": "code",
   "execution_count": null,
   "id": "2JgO0tpbyJL2",
   "metadata": {
    "id": "2JgO0tpbyJL2"
   },
   "outputs": [],
   "source": [
    "!gcc mm-omp.c -o mm-omp -fopenmp -O3"
   ]
  },
  {
   "cell_type": "code",
   "execution_count": null,
   "id": "nFLmUncjyJL2",
   "metadata": {
    "colab": {
     "base_uri": "https://localhost:8080/"
    },
    "executionInfo": {
     "elapsed": 646,
     "status": "ok",
     "timestamp": 1666529486235,
     "user": {
      "displayName": "Murilo Boratto",
      "userId": "13998345321799991370"
     },
     "user_tz": 180
    },
    "id": "nFLmUncjyJL2",
    "outputId": "75aaae82-fedf-4579-9b6e-6e2a968cfdbf"
   },
   "outputs": [
    {
     "name": "stdout",
     "output_type": "stream",
     "text": [
      "1000 x 1000  0.446 seconds\n"
     ]
    }
   ],
   "source": [
    "!OMP_NUM_THREADS=6 ./mm-omp 1000"
   ]
  },
  {
   "cell_type": "markdown",
   "id": "pTgr8x0GyJL2",
   "metadata": {
    "id": "pTgr8x0GyJL2"
   },
   "source": [
    "### CUDA"
   ]
  },
  {
   "cell_type": "code",
   "execution_count": null,
   "id": "Ypu7QTttyJL3",
   "metadata": {
    "colab": {
     "base_uri": "https://localhost:8080/"
    },
    "executionInfo": {
     "elapsed": 8,
     "status": "ok",
     "timestamp": 1666556061590,
     "user": {
      "displayName": "Murilo Boratto",
      "userId": "13998345321799991370"
     },
     "user_tz": 180
    },
    "id": "Ypu7QTttyJL3",
    "outputId": "133eeb91-57b0-4892-eb59-9e4a6cac05db"
   },
   "outputs": [
    {
     "name": "stdout",
     "output_type": "stream",
     "text": [
      "Writing mm-CUDA.cu\n"
     ]
    }
   ],
   "source": [
    "%%writefile mm-CUDA.cu\n",
    "\n",
    "#include <stdio.h>\n",
    "#include <stdlib.h>\n",
    "#include <cuda.h>\n",
    "#include <sys/time.h>\n",
    "\n",
    "__global__ void kernel(double *A, double *B, double *C, int n) \n",
    "{  \n",
    "  int i = blockIdx.x * blockDim.x + threadIdx.x;\n",
    "  int j = blockIdx.y * blockDim.y + threadIdx.y;\n",
    "\n",
    "  if(i < n && j < n)\n",
    "    for( int k = 0; k < n; k++) \n",
    "       C[i*n+j] += A[i*n+k] * B[k*n+j];\n",
    "\n",
    "}\n",
    " \n",
    "void mult_matrix_cpu(double *A, double *B, double *C, int n) \n",
    "{\n",
    "   for(int i = 0; i < n; i++) \n",
    "      for(int j = 0; j < n; j++)\n",
    "         for(int k = 0; k < n; k++) \n",
    "            C[i*n+j]+=A[i*n+k]*B[k*n+j];\n",
    "        \n",
    "}\n",
    "\n",
    "void fill_matrix(double *A, int n)\n",
    "{ \n",
    "   for(int i=0; i < n; i++)\n",
    "     for(int j=0; j < n; j++)\n",
    "       A[i*n+j] = rand()%(10-1)*1;\n",
    "   \n",
    "}\n",
    "\n",
    "void print_matrix(double *A, int n)\n",
    "{\n",
    "  for(int i = 0; i < n; i++){\n",
    "    for(int j = 0; j < n; j++)\n",
    "      printf(\"%1.2f\\t\", A[i*n+j]);\n",
    "    printf(\"\\n\");\n",
    "  }\n",
    "\n",
    "  printf(\"\\n\");\n",
    "\n",
    "}\n",
    "\n",
    "int main(int argc, char **argv)\n",
    "{\n",
    "    int n = atoi(argv[1]);\n",
    "    int sizeblock = atoi(argv[2]);\n",
    "\n",
    "    /*Host*/\n",
    "    double *A_host=(double *) malloc (n * n * sizeof(double));\n",
    "    double *B_host=(double *) malloc (n * n * sizeof(double));\n",
    "    double *C_host=(double *) malloc (n * n * sizeof(double));\n",
    "        \n",
    "    fill_matrix(A_host,n);\n",
    "    fill_matrix(B_host,n);\n",
    "      \n",
    "    //print_matrix(A_host,n);\n",
    "    //print_matrix(B_host,n);\n",
    "\n",
    "    //Measuring time\n",
    "    struct timeval begin, end;\n",
    "    gettimeofday(&begin, 0);\n",
    "    \n",
    "    /*Device*/\n",
    "    double *A_device;\n",
    "    double *B_device;\n",
    "    double *C_device;\n",
    "\n",
    "    cudaMalloc((void**)&A_device, n * n * sizeof(double) ); \n",
    "    cudaMalloc((void**)&B_device, n * n * sizeof(double) ); \n",
    "    cudaMalloc((void**)&C_device, n * n * sizeof(double) ); \n",
    "\n",
    "    cudaMemcpy(A_device, A_host, n * n * sizeof(double), cudaMemcpyHostToDevice ); \n",
    "    cudaMemcpy(B_device, B_host, n * n * sizeof(double), cudaMemcpyHostToDevice ); \n",
    "\n",
    "    /*Computational GRID: (Grid: 2D Block: 2D)*/\n",
    "    dim3 NUMBER_OF_BLOCKS ( (int) ceil( (float) n / sizeblock), (int) ceil( (float)n / sizeblock) );\n",
    "    dim3 NUMBER_OF_THREADS( sizeblock, sizeblock);  \n",
    "\n",
    "          kernel<<< NUMBER_OF_BLOCKS, NUMBER_OF_THREADS >>>(A_device, B_device, C_device, n);      \n",
    "          cudaDeviceSynchronize();\n",
    "\n",
    "    cudaMemcpy(C_host, C_device, n * n * sizeof(double), cudaMemcpyDeviceToHost ); \n",
    "\n",
    "    //print_matrix(C_host, n );\n",
    "\n",
    "    gettimeofday(&end, 0);\n",
    "    long seconds = end.tv_sec - begin.tv_sec;\n",
    "    long microseconds = end.tv_usec - begin.tv_usec;\n",
    "    double elapsed = seconds + microseconds*1e-6;\n",
    "    \n",
    "    printf(\"%d x %d  %.3f seconds\\n\", n, n, elapsed);  \n",
    "    \n",
    "    cudaFree(A_device );\n",
    "    cudaFree(B_device );\n",
    "    cudaFree(C_device );\n",
    "  \n",
    "    return 0;\n",
    "}"
   ]
  },
  {
   "cell_type": "code",
   "execution_count": null,
   "id": "G9eK7uvvyJL3",
   "metadata": {
    "id": "G9eK7uvvyJL3"
   },
   "outputs": [],
   "source": [
    "!nvcc mm-CUDA.cu -o mm-CUDA"
   ]
  },
  {
   "cell_type": "code",
   "execution_count": null,
   "id": "9lQDO3hpyJL3",
   "metadata": {
    "colab": {
     "base_uri": "https://localhost:8080/"
    },
    "executionInfo": {
     "elapsed": 692,
     "status": "ok",
     "timestamp": 1666556070589,
     "user": {
      "displayName": "Murilo Boratto",
      "userId": "13998345321799991370"
     },
     "user_tz": 180
    },
    "id": "9lQDO3hpyJL3",
    "outputId": "d7a17746-13d9-405d-d122-c8e626b6a396"
   },
   "outputs": [
    {
     "name": "stdout",
     "output_type": "stream",
     "text": [
      "1000 x 1000  0.361 seconds\n"
     ]
    }
   ],
   "source": [
    "!./mm-CUDA 1000 32"
   ]
  },
  {
   "cell_type": "markdown",
   "id": "eTtb7CD_yJL4",
   "metadata": {
    "id": "eTtb7CD_yJL4"
   },
   "source": [
    "### OpenACC"
   ]
  },
  {
   "cell_type": "code",
   "execution_count": null,
   "id": "ReO-ytcuyJL4",
   "metadata": {
    "id": "ReO-ytcuyJL4",
    "outputId": "eb1b7f54-b4fa-4f75-bb49-8cb64cabab36"
   },
   "outputs": [
    {
     "name": "stdout",
     "output_type": "stream",
     "text": [
      "Writing mm-openacc.c\n"
     ]
    }
   ],
   "source": [
    "%%writefile mm-openacc.c\n",
    "\n",
    "#include <stdio.h>\n",
    "#include <stdlib.h>\n",
    "#include <sys/time.h>\n",
    "\n",
    "void fill_matrix(double *A, int n)\n",
    "{\n",
    "  for(int i = 0; i < n; i++)\n",
    "    for(int j = 0; j < n; j++)\n",
    "      A[i*n+j] = rand()%(10-1)*1; \n",
    "}\n",
    "\n",
    "void print_matrix(double *A, int n)\n",
    "{\n",
    "  for(int i = 0; i < n; i++){\n",
    "    for(int j = 0; j < n; j++)\n",
    "      printf(\"%1.2f\\t\", A[i*n+j]);\n",
    "    printf(\"\\n\");\n",
    "  }\n",
    "\n",
    "  printf(\"\\n\");\n",
    "\n",
    "}\n",
    "\n",
    "int main(int argc, char **argv)\n",
    "{\n",
    "  int n = atoi(argv[1]);  \n",
    "  int i, j, k;\n",
    "\n",
    "  double *A = (double *) malloc (sizeof(double) * n * n);\n",
    "  double *B = (double *) malloc (sizeof(double) * n * n);\n",
    "  double *C = (double *) malloc (sizeof(double) * n * n);\n",
    "\n",
    "  fill_matrix(A,n);\n",
    "  fill_matrix(B,n);\n",
    " \n",
    "  //Measuring time\n",
    "  struct timeval begin, end;\n",
    "  gettimeofday(&begin, 0);\n",
    "      \n",
    "  #pragma acc data present_or_copyin(A[:n*n], B[:n*n], n) copyout(C[:n*n])\n",
    "   #pragma acc parallel \n",
    "    #pragma acc loop\n",
    "     for(i = 0; i < n; i++) \n",
    "       for(j = 0; j < n; j++)\n",
    "         for(k = 0; k < n; k++) \n",
    "           C[i*n+j] += A[i*n+k] * B[k*n+j];\n",
    "\n",
    "   gettimeofday(&end, 0); \n",
    "   long seconds = end.tv_sec - begin.tv_sec;\n",
    "   long microseconds = end.tv_usec - begin.tv_usec;\n",
    "   double elapsed = seconds + microseconds*1e-6;\n",
    "    \n",
    "    printf(\"%d x %d  %.3f seconds\\n\", n, n, elapsed);  \n",
    "     \n",
    "  //print_matrix(A,n);\n",
    "  //print_matrix(B,n);\n",
    "  //print_matrix(C,n);\n",
    "\n",
    "  return 0;\n",
    "}"
   ]
  },
  {
   "cell_type": "code",
   "execution_count": null,
   "id": "Aif58O7xyJL4",
   "metadata": {
    "id": "Aif58O7xyJL4",
    "outputId": "42717882-1845-4955-f24b-ae1688da9cc5"
   },
   "outputs": [
    {
     "name": "stdout",
     "output_type": "stream",
     "text": [
      "\n",
      "WARNING: Your license to use PGI Community Edition version 19.10 has expired.\n",
      "Please obtain a new version at http://www.pgroup.com/community or\n",
      "contact PGI Sales at sales@pgroup.com to obtain a perpetual license.\n",
      "\n"
     ]
    }
   ],
   "source": [
    "!pgcc mm-openacc.c -o mm-openacc -acc"
   ]
  },
  {
   "cell_type": "code",
   "execution_count": null,
   "id": "YNr5hHVYyJL5",
   "metadata": {
    "id": "YNr5hHVYyJL5",
    "outputId": "d311bd04-2828-4c37-ec76-643995de17ca"
   },
   "outputs": [
    {
     "name": "stdout",
     "output_type": "stream",
     "text": [
      "1000 x 1000  0.590 seconds\n"
     ]
    }
   ],
   "source": [
    "!./mm-openacc 1000"
   ]
  },
  {
   "cell_type": "markdown",
   "id": "nU4xEUl4yJL5",
   "metadata": {
    "id": "nU4xEUl4yJL5"
   },
   "source": [
    "### OpenMP5"
   ]
  },
  {
   "cell_type": "code",
   "execution_count": null,
   "id": "Z6xMCqBeyJL5",
   "metadata": {
    "id": "Z6xMCqBeyJL5",
    "outputId": "28667a6c-a198-4ac1-b396-9cfbc87702de"
   },
   "outputs": [
    {
     "name": "stdout",
     "output_type": "stream",
     "text": [
      "Writing mm-omp5.c\n"
     ]
    }
   ],
   "source": [
    "%%writefile mm-omp5.c\n",
    "\n",
    "#include <stdio.h>\n",
    "#include <stdlib.h>\n",
    "#include <omp.h>\n",
    "#include <sys/time.h>\n",
    "\n",
    "void fill_matrix(double *A, int n)\n",
    "{ \n",
    "  for(int i = 0; i < n; i++)\n",
    "    for(int j = 0; j < n; j++)\n",
    "      A[i*n+j] = rand()%(10-1)*1; \n",
    "}\n",
    "\n",
    "void print_matrix(double *A, int n)\n",
    "{\n",
    "  for(int i = 0; i < n; i++){\n",
    "    for(int j = 0; j < n; j++)\n",
    "      printf(\"%1.2f\\t\", A[i*n+j]);\n",
    "    printf(\"\\n\");\n",
    "  }\n",
    "  \n",
    "  printf(\"\\n\");\n",
    "}\n",
    "\n",
    "int main(int argc, char **argv)\n",
    "{\n",
    "  int n = atoi(argv[1]);  \n",
    "  int i, j, k;\n",
    "\n",
    "  double  *A = (double *) malloc (sizeof(double) * n * n);\n",
    "  double  *B = (double *) malloc (sizeof(double) * n * n);\n",
    "  double  *C = (double *) malloc (sizeof(double) * n * n);\n",
    "\n",
    "  fill_matrix(A,n);\n",
    "  fill_matrix(B,n);\n",
    "\n",
    "  //Measuring time\n",
    "  struct timeval begin, end;\n",
    "  gettimeofday(&begin, 0);\n",
    "    \n",
    "  #pragma omp target data map(to:A[:n*n], B[:n*n], n) map(from:C[:n*n])\n",
    "  {\n",
    "   #pragma omp target teams distribute parallel for private(i,j,k)\n",
    "   for(i = 0; i < n; i++) \n",
    "     for(j = 0; j < n; j++)\n",
    "       for(k = 0; k < n; k++) \n",
    "         C[i*n+j] += A[i*n+k] * B[k*n+j];\n",
    "  }\n",
    "\n",
    "   gettimeofday(&end, 0); \n",
    "   long seconds = end.tv_sec - begin.tv_sec;\n",
    "   long microseconds = end.tv_usec - begin.tv_usec;\n",
    "   double elapsed = seconds + microseconds*1e-6;\n",
    "    \n",
    "    printf(\"%d x %d  %.3f seconds\\n\", n, n, elapsed);   \n",
    "  \n",
    "  //print_matrix(A,n);\n",
    "  //print_matrix(B,n);\n",
    "  //print_matrix(C,n);\n",
    "\n",
    "  return 0;\n",
    "}"
   ]
  },
  {
   "cell_type": "code",
   "execution_count": null,
   "id": "CmLRUJvIyJL5",
   "metadata": {
    "id": "CmLRUJvIyJL5"
   },
   "outputs": [],
   "source": [
    "!clang mm-omp5.c -o mm-omp5 -fopenmp -fopenmp-targets=nvptx64-nvidia-cuda"
   ]
  },
  {
   "cell_type": "code",
   "execution_count": null,
   "id": "bsaExBeTyJL6",
   "metadata": {
    "id": "bsaExBeTyJL6",
    "outputId": "901bf666-b753-49b7-a3a4-b1de58755b59"
   },
   "outputs": [
    {
     "name": "stdout",
     "output_type": "stream",
     "text": [
      "1000 x 1000  2.252 seconds\n"
     ]
    }
   ],
   "source": [
    "!./mm-omp5 1000"
   ]
  },
  {
   "cell_type": "markdown",
   "id": "-s2IqLFfyJL6",
   "metadata": {
    "id": "-s2IqLFfyJL6"
   },
   "source": [
    "| Program Version      | Execution Time (sec.)  | Speedup      |\n",
    "| :---                 |    :----:              |        ---:  |\n",
    "| Serial               | 1.44                   | 1X           |\n",
    "| OpenMP T=6           | 0.28                   | 5.14X        |\n",
    "| OpenACC              | 0.59                   | 2.44X        | \n",
    "| CUDA                 | 0.17                   | 8.47X        | \n",
    "| OpenMP5              | 2.25                   | 0.64X        | "
   ]
  },
  {
   "cell_type": "markdown",
   "id": "2V6y7I4pdXPD",
   "metadata": {
    "id": "2V6y7I4pdXPD"
   },
   "source": [
    "## Numeric Integration Benchmark"
   ]
  },
  {
   "cell_type": "markdown",
   "id": "TCQ0F8hze0xA",
   "metadata": {
    "id": "TCQ0F8hze0xA"
   },
   "source": [
    "![integral.png](data:image/png;base64,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)"
   ]
  },
  {
   "cell_type": "markdown",
   "id": "QKxBmOjyfRBX",
   "metadata": {
    "id": "QKxBmOjyfRBX"
   },
   "source": [
    "### Sequential Code"
   ]
  },
  {
   "cell_type": "code",
   "execution_count": null,
   "id": "gJMnvebZe4Ri",
   "metadata": {
    "colab": {
     "base_uri": "https://localhost:8080/"
    },
    "executionInfo": {
     "elapsed": 267,
     "status": "ok",
     "timestamp": 1666888228767,
     "user": {
      "displayName": "Murilo Boratto",
      "userId": "13998345321799991370"
     },
     "user_tz": 180
    },
    "id": "gJMnvebZe4Ri",
    "outputId": "63afba6f-fdf8-4c97-a716-3934bacdba91"
   },
   "outputs": [
    {
     "name": "stdout",
     "output_type": "stream",
     "text": [
      "Writing integral.c\n"
     ]
    }
   ],
   "source": [
    "%%writefile integral.c\n",
    "\n",
    "#include <stdio.h>\n",
    "#include <stdlib.h>\n",
    "#include <math.h>\n",
    "#include <omp.h>\n",
    "\n",
    "/* f(x) function from which the integral will be calculated. */\n",
    "double f(double x)\n",
    "{\n",
    " return 100 * x + sin(2 * x * M_PI);\n",
    "}\n",
    "\n",
    "/* Calculates the integral of the function betweens point a and b. */\n",
    "double integral(double a, double b, int n)\n",
    "{\n",
    "   double h, s = 0, result;\n",
    "   int i;\n",
    "\n",
    "   h = (b - a) / n;\n",
    "\n",
    "   for (i = 0; i < n; i++)\n",
    "   {\n",
    "     s += f(a + h * (i + 0.5));\n",
    "   }\n",
    "\n",
    "   result = h * s;\n",
    "\n",
    "   return result;\n",
    "}\n",
    "\n",
    "\n",
    "int main(int argc, char *argv[])\n",
    "{\n",
    "   int steps = atoi(argv[1]);\n",
    "\n",
    "   double start = omp_get_wtime();\n",
    "      double result = integral(0, 1, steps);\n",
    "   double end = omp_get_wtime();\n",
    "\n",
    "   printf(\"%f\\t%f\\n\", end - start, result);\n",
    "\n",
    "   return 0;\n",
    "}"
   ]
  },
  {
   "cell_type": "code",
   "execution_count": null,
   "id": "O2dk9_dyfHty",
   "metadata": {
    "id": "O2dk9_dyfHty"
   },
   "outputs": [],
   "source": [
    "!gcc integral.c -o integral -fopenmp -lm"
   ]
  },
  {
   "cell_type": "code",
   "execution_count": null,
   "id": "RfIp6K4rfM17",
   "metadata": {
    "colab": {
     "base_uri": "https://localhost:8080/"
    },
    "executionInfo": {
     "elapsed": 4353,
     "status": "ok",
     "timestamp": 1666888315994,
     "user": {
      "displayName": "Murilo Boratto",
      "userId": "13998345321799991370"
     },
     "user_tz": 180
    },
    "id": "RfIp6K4rfM17",
    "outputId": "9fb8eba7-0c97-46f0-98f8-9221556ed14b"
   },
   "outputs": [
    {
     "name": "stdout",
     "output_type": "stream",
     "text": [
      "3.655262\t50.000000\n"
     ]
    }
   ],
   "source": [
    "!./integral 100000000"
   ]
  },
  {
   "cell_type": "markdown",
   "id": "b50UpmkhfVdw",
   "metadata": {
    "id": "b50UpmkhfVdw"
   },
   "source": [
    "### OpenMP"
   ]
  },
  {
   "cell_type": "code",
   "execution_count": null,
   "id": "_fKvLoBCfYTA",
   "metadata": {
    "colab": {
     "base_uri": "https://localhost:8080/"
    },
    "executionInfo": {
     "elapsed": 257,
     "status": "ok",
     "timestamp": 1666888453179,
     "user": {
      "displayName": "Murilo Boratto",
      "userId": "13998345321799991370"
     },
     "user_tz": 180
    },
    "id": "_fKvLoBCfYTA",
    "outputId": "839575e0-dff6-4afe-f790-e25bd707f565"
   },
   "outputs": [
    {
     "name": "stdout",
     "output_type": "stream",
     "text": [
      "Overwriting integral-omp.c\n"
     ]
    }
   ],
   "source": [
    "%%writefile integral-omp.c\n",
    "\n",
    "#include <stdio.h>\n",
    "#include <stdlib.h>\n",
    "#include <math.h>\n",
    "#include <omp.h>\n",
    "\n",
    "/* f(x) function from which the integral will be calculated. */\n",
    "double f(double x)\n",
    "{\n",
    "   return 100 * x + sin(2 * x * M_PI);\n",
    "}\n",
    "\n",
    "/* Calculates the integral of the function betweens point a and b. */\n",
    "double integral(double a, double b, int n)\n",
    "{\n",
    "   double h, s = 0, result;\n",
    "   int i;\n",
    "\n",
    "   h = (b - a) / n;\n",
    "\n",
    "   #pragma omp parallel for reduction(+:s)\n",
    "   for (i = 0; i < n; i++)\n",
    "   {\n",
    "      s += f(a + h * (i + 0.5));\n",
    "   }\n",
    "\n",
    "   result = h * s;\n",
    "\n",
    "   return result;\n",
    "}\n",
    "\n",
    "\n",
    "int main(int argc, char *argv[])\n",
    "{\n",
    "  int steps = atoi(argv[1]);\n",
    "\n",
    "  double start = omp_get_wtime();\n",
    "     double result = integral(0, 1, steps);\n",
    "  double end = omp_get_wtime();\n",
    "\n",
    "  printf(\"%f\\t%f\\n\", end - start, result);\n",
    "\n",
    "  return 0;\n",
    "}\n"
   ]
  },
  {
   "cell_type": "code",
   "execution_count": null,
   "id": "kUaGzMwufjuk",
   "metadata": {
    "id": "kUaGzMwufjuk"
   },
   "outputs": [],
   "source": [
    "!gcc integral-omp.c -o integral-omp -fopenmp -lm -O3"
   ]
  },
  {
   "cell_type": "code",
   "execution_count": null,
   "id": "ghX0ShhlfjYY",
   "metadata": {
    "colab": {
     "base_uri": "https://localhost:8080/"
    },
    "executionInfo": {
     "elapsed": 19,
     "status": "ok",
     "timestamp": 1666888640786,
     "user": {
      "displayName": "Murilo Boratto",
      "userId": "13998345321799991370"
     },
     "user_tz": 180
    },
    "id": "ghX0ShhlfjYY",
    "outputId": "6eabf89a-0412-4de2-9968-b7a66e10489a"
   },
   "outputs": [
    {
     "name": "stdout",
     "output_type": "stream",
     "text": [
      "0.110057\t50.000000\n"
     ]
    }
   ],
   "source": [
    "!OMP_NUM_THREADS=64 ./integral-omp 100000000"
   ]
  },
  {
   "cell_type": "markdown",
   "id": "pppRxcYqfv14",
   "metadata": {
    "id": "pppRxcYqfv14"
   },
   "source": [
    "### MPI"
   ]
  },
  {
   "cell_type": "code",
   "execution_count": null,
   "id": "Rm7MLDKAfyL6",
   "metadata": {
    "colab": {
     "base_uri": "https://localhost:8080/"
    },
    "executionInfo": {
     "elapsed": 327,
     "status": "ok",
     "timestamp": 1666888518354,
     "user": {
      "displayName": "Murilo Boratto",
      "userId": "13998345321799991370"
     },
     "user_tz": 180
    },
    "id": "Rm7MLDKAfyL6",
    "outputId": "6b9a9403-ff0b-4576-82b6-5cdc52f68fb8"
   },
   "outputs": [
    {
     "name": "stdout",
     "output_type": "stream",
     "text": [
      "Writing integral-mpi.c\n"
     ]
    }
   ],
   "source": [
    "%%writefile integral-mpi.c\n",
    "\n",
    "#include <stdio.h>\n",
    "#include <stdlib.h>\n",
    "#include <math.h>\n",
    "#include <time.h>\n",
    "#include <mpi.h>\n",
    "#include <omp.h>\n",
    "\n",
    "/* f(x) function from which the integral will be calculated. */\n",
    "double f(double x)\n",
    "{\n",
    " return 100 * x + sin(2 * x * M_PI);\n",
    "}\n",
    "\n",
    "/* Calculates the integral of the function betweens point a and b. */\n",
    "double integral(double a, double b, int n)\n",
    "{\n",
    "   double h, s = 0, result;\n",
    "   int i;\n",
    "\n",
    "   h = (b - a) / n;\n",
    "\n",
    "   for (i = 0; i < n; i++)\n",
    "   {\n",
    "     s += f(a + h * (i + 0.5));\n",
    "   }\n",
    "\n",
    "   result = h * s;\n",
    "   \n",
    "   return result;\n",
    "}\n",
    "\n",
    "\n",
    "int main(int argc, char *argv[])\n",
    "{\n",
    "   double result = 0, partial_result = 0;\n",
    "   int steps = atoi(argv[1]);\n",
    "   int rank, size;\n",
    "\n",
    "   MPI_Init(&argc, &argv);\n",
    "   MPI_Comm_rank(MPI_COMM_WORLD, &rank);\n",
    "   MPI_Comm_size(MPI_COMM_WORLD, &size);\n",
    "   MPI_Status status;\n",
    "  \n",
    "   double start = omp_get_wtime();\n",
    "      partial_result = integral(rank/size, (rank + 1)/size, steps);\n",
    "      MPI_Reduce(&partial_result, &result, 1, MPI_DOUBLE, MPI_SUM, 0, MPI_COMM_WORLD);\n",
    "   double end = omp_get_wtime();\n",
    "\n",
    "   if(rank == 0){ \n",
    "      printf(\"%f\\t%f\\n\",  end - start, result);\n",
    "   }\n",
    "\n",
    "   MPI_Finalize();\n",
    "\n",
    "   return 0;\n",
    "}\n"
   ]
  },
  {
   "cell_type": "code",
   "execution_count": null,
   "id": "w-ILAk5bf-9w",
   "metadata": {
    "id": "w-ILAk5bf-9w"
   },
   "outputs": [],
   "source": [
    "!mpicc integral-mpi.c -o integral-mpi -fopenmp -lm -O3"
   ]
  },
  {
   "cell_type": "code",
   "execution_count": null,
   "id": "xqSlOYYkf-0P",
   "metadata": {
    "colab": {
     "base_uri": "https://localhost:8080/"
    },
    "executionInfo": {
     "elapsed": 2630,
     "status": "ok",
     "timestamp": 1666888626026,
     "user": {
      "displayName": "Murilo Boratto",
      "userId": "13998345321799991370"
     },
     "user_tz": 180
    },
    "id": "xqSlOYYkf-0P",
    "outputId": "a8c1956e-6ce3-4ea6-e039-04238e482ae9"
   },
   "outputs": [
    {
     "name": "stdout",
     "output_type": "stream",
     "text": [
      "2.160934\t50.000000\n"
     ]
    }
   ],
   "source": [
    "!mpirun --allow-run-as-root -np 16 ./integral-mpi 100000000"
   ]
  },
  {
   "cell_type": "markdown",
   "id": "aSoifRopgMdu",
   "metadata": {
    "id": "aSoifRopgMdu"
   },
   "source": [
    "### MPI + OpenMP"
   ]
  },
  {
   "cell_type": "code",
   "execution_count": null,
   "id": "6JVjYM-bgQ6m",
   "metadata": {
    "colab": {
     "base_uri": "https://localhost:8080/"
    },
    "executionInfo": {
     "elapsed": 816,
     "status": "ok",
     "timestamp": 1666888654047,
     "user": {
      "displayName": "Murilo Boratto",
      "userId": "13998345321799991370"
     },
     "user_tz": 180
    },
    "id": "6JVjYM-bgQ6m",
    "outputId": "a59255f6-ad86-47a4-caca-15dcf8638cd8"
   },
   "outputs": [
    {
     "name": "stdout",
     "output_type": "stream",
     "text": [
      "Writing integral-mpi+omp.c\n"
     ]
    }
   ],
   "source": [
    "%%writefile integral-mpi+omp.c\n",
    "\n",
    "#include <mpi.h>\n",
    "#include <omp.h>\n",
    "#include <stdio.h>\n",
    "#include <stdlib.h>\n",
    "#include <math.h>\n",
    "\n",
    "\n",
    "/* f(x) function from which the integral will be calculated. */\n",
    "double f(double x)\n",
    "{\n",
    " return 100 * x + sin(2 * x * M_PI);\n",
    "}\n",
    "\n",
    "/* Calculates the integral of the function betweens point a and b. */\n",
    "double integral(double a, double b, int n)\n",
    "{\n",
    "   double h, s = 0, result;\n",
    "   int i;\n",
    "\n",
    "   h = (b - a) / n;\n",
    "\n",
    "   #pragma omp parallel for reduction(+:s)\n",
    "   for (i = 0; i < n; i++)\n",
    "   {\n",
    "     s += f(a + h * (i + 0.5));\n",
    "   }\n",
    "\n",
    "   result = h * s;\n",
    "   return result;\n",
    "}\n",
    "\n",
    "\n",
    "int main(int argc, char *argv[])\n",
    "{\n",
    "   double result = 0, partial_result = 0;\n",
    "   int steps = atoi(argv[1]);\n",
    "   int rank, size;\n",
    "\n",
    "   MPI_Init(&argc, &argv);\n",
    "   MPI_Comm_rank(MPI_COMM_WORLD, &rank);\n",
    "   MPI_Comm_size(MPI_COMM_WORLD, &size);\n",
    "   MPI_Status status;\n",
    "  \n",
    "   double start = omp_get_wtime();\n",
    "      partial_result = integral(rank/size, (rank + 1)/size, steps);\n",
    "      MPI_Reduce(&partial_result, &result, 1, MPI_DOUBLE, MPI_SUM, 0, MPI_COMM_WORLD);\n",
    "   double end = omp_get_wtime();\n",
    "\n",
    "   if (rank == 0) \n",
    "      printf(\"%f\\t%f\\n\", end - start, result);\n",
    "\n",
    "   MPI_Finalize();\n",
    "\n",
    "   return 0;\n",
    "}\n"
   ]
  },
  {
   "cell_type": "code",
   "execution_count": null,
   "id": "guq5ymZfgcaG",
   "metadata": {
    "id": "guq5ymZfgcaG"
   },
   "outputs": [],
   "source": [
    "!mpicc integral-mpi+omp.c -o integral-mpi+omp -fopenmp -lm"
   ]
  },
  {
   "cell_type": "code",
   "execution_count": null,
   "id": "LxmtC4w4gcQm",
   "metadata": {
    "colab": {
     "base_uri": "https://localhost:8080/"
    },
    "executionInfo": {
     "elapsed": 1340,
     "status": "ok",
     "timestamp": 1666888715182,
     "user": {
      "displayName": "Murilo Boratto",
      "userId": "13998345321799991370"
     },
     "user_tz": 180
    },
    "id": "LxmtC4w4gcQm",
    "outputId": "fa784b0c-f570-4fb9-8b64-40034d86ab1e"
   },
   "outputs": [
    {
     "name": "stdout",
     "output_type": "stream",
     "text": [
      "1.182848\t50.000000\n"
     ]
    }
   ],
   "source": [
    "!OMP_NUM_THREADS=8 mpirun --allow-run-as-root -np 16 ./integral-mpi+omp 100000000"
   ]
  },
  {
   "cell_type": "markdown",
   "id": "q18vx1B2guVC",
   "metadata": {
    "id": "q18vx1B2guVC"
   },
   "source": [
    "### CUDA"
   ]
  },
  {
   "cell_type": "code",
   "execution_count": 1,
   "id": "AOTHUFuKgwne",
   "metadata": {
    "colab": {
     "base_uri": "https://localhost:8080/"
    },
    "executionInfo": {
     "elapsed": 910,
     "status": "ok",
     "timestamp": 1667075606436,
     "user": {
      "displayName": "Murilo Boratto",
      "userId": "13998345321799991370"
     },
     "user_tz": 180
    },
    "id": "AOTHUFuKgwne",
    "outputId": "054c416a-80d3-40f1-cfad-358fff1a1888"
   },
   "outputs": [
    {
     "name": "stdout",
     "output_type": "stream",
     "text": [
      "Writing integral-1gpu.cu\n"
     ]
    }
   ],
   "source": [
    "%%writefile integral-1gpu.cu\n",
    "\n",
    "#include <stdio.h>\n",
    "#include <stdlib.h>\n",
    "#include <math.h>\n",
    "#include <time.h>\n",
    "#include <omp.h>\n",
    "\n",
    "__device__ double f(double x)\n",
    "{\n",
    " return 100 * x + sin(2 * x * M_PI);\n",
    "}\n",
    "\n",
    "__global__ void integral(double a, double b, int n, double *result, double *global_result)\n",
    "{\n",
    "   double h, s = 0;\n",
    "   int i = threadIdx.x;\n",
    "\n",
    "   h = (b - a) / n;\n",
    "\n",
    "   if(i < n){\n",
    "       s += f(a + h * (i + 0.5));\n",
    "   }\n",
    "\n",
    "   result[i] = h * s;\n",
    "   //printf(\"Resultado para a thread %d: %f\\n\", i, result[i]);\n",
    "\n",
    "   int k = threadIdx.x;\n",
    "   double soma = 0;\n",
    "\n",
    "   if(k == 1){\n",
    "      for(int j = 0; j < blockDim.x; j++)\n",
    "         soma += result[j];\n",
    "      \n",
    "      *global_result = soma;\n",
    "   }\n",
    "\n",
    "}\n",
    "\n",
    "\n",
    "\n",
    "\n",
    "int main(int argc, char *argv[])\n",
    "{\n",
    "   int steps = atoi(argv[1]);\n",
    "\n",
    "   double a = 0, b = 1;\n",
    "   double *result, *global_result;\n",
    "\n",
    "   cudaMallocManaged(&result, steps);\n",
    "   cudaMallocManaged(&global_result, 1);\n",
    "   \n",
    "   dim3 NUMBER_OF_BLOCKS(1);\n",
    "   dim3 NUMBER_OF_THREADS(steps);\n",
    "         \n",
    "   float start = omp_get_wtime();\n",
    "         \n",
    "         integral<<<NUMBER_OF_BLOCKS, NUMBER_OF_THREADS>>>(a, b, steps, result, global_result);\n",
    "         cudaDeviceSynchronize();\n",
    "\n",
    "   float end = omp_get_wtime();\n",
    "\n",
    "   printf(\"%f\\t%f\\n\", end - start, *global_result);\n",
    "  \n",
    "   cudaFree(result);\n",
    "   cudaFree(global_result);\n",
    "\n",
    "   return 0;\n",
    "}\n"
   ]
  },
  {
   "cell_type": "code",
   "execution_count": 2,
   "id": "HjNOwpLEgxYG",
   "metadata": {
    "executionInfo": {
     "elapsed": 1849,
     "status": "ok",
     "timestamp": 1667075614311,
     "user": {
      "displayName": "Murilo Boratto",
      "userId": "13998345321799991370"
     },
     "user_tz": 180
    },
    "id": "HjNOwpLEgxYG"
   },
   "outputs": [],
   "source": [
    "!nvcc integral-1gpu.cu -o integral-1gpu -Xcompiler -fopenmp -lm"
   ]
  },
  {
   "cell_type": "code",
   "execution_count": null,
   "id": "fsD48i2ogxL9",
   "metadata": {
    "id": "fsD48i2ogxL9"
   },
   "outputs": [],
   "source": [
    "!./integral-1gpu 100"
   ]
  },
  {
   "cell_type": "markdown",
   "id": "t1QMH8bohdwR",
   "metadata": {
    "id": "t1QMH8bohdwR"
   },
   "source": [
    "| Program Version      | Execution Time (sec.)  | Speedup      |\n",
    "| :---                 |    :----:          |        ---:  |\n",
    "| Serial               |                    |            |\n",
    "| OpenMP (T=X threads)   |                    |        |\n",
    "| MPI (P=Y processes)    |                    |        | \n",
    "| Hybrid (T=X, P=Y)       |                    |        | \n",
    "| CUDA                 |                    |        | "
   ]
  },
  {
   "cell_type": "markdown",
   "id": "bPQOHun4yJL6",
   "metadata": {
    "id": "bPQOHun4yJL6"
   },
   "source": [
    "## Next"
   ]
  },
  {
   "cell_type": "markdown",
   "id": "-wJF9DQryJL7",
   "metadata": {
    "id": "-wJF9DQryJL7"
   },
   "source": [
    "Please continue to the next notebook: Please continue to the next notebook: [Accelerate a Thermal Conductivity Application](2-SIINTEC2022-heat.ipynb)."
   ]
  }
 ],
 "metadata": {
  "accelerator": "GPU",
  "colab": {
   "collapsed_sections": [
    "FUm5HQBwyJLm",
    "Jq8Zc_8byJLp",
    "bzhJyfWIyJLr",
    "bPQOHun4yJL6"
   ],
   "machine_shape": "hm",
   "provenance": [
    {
     "file_id": "https://github.com/muriloboratto/SIINTEC2022/blob/master/1-SIINTEC2022-Introduction.ipynb",
     "timestamp": 1666528573400
    }
   ]
  },
  "gpuClass": "premium",
  "kernelspec": {
   "display_name": "Python 3 (ipykernel)",
   "language": "python",
   "name": "python3"
  },
  "language_info": {
   "codemirror_mode": {
    "name": "ipython",
    "version": 3
   },
   "file_extension": ".py",
   "mimetype": "text/x-python",
   "name": "python",
   "nbconvert_exporter": "python",
   "pygments_lexer": "ipython3",
   "version": "3.8.8"
  }
 },
 "nbformat": 4,
 "nbformat_minor": 5
}
